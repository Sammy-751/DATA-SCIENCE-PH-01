{
 "cells": [
  {
   "cell_type": "markdown",
   "id": "6377b9d8-e0d3-4ded-8bc2-befdd0508516",
   "metadata": {},
   "source": [
    "**RISK ASSESSMENT FOR AIRCRAFTS IN THE AVIATION SECTOR**"
   ]
  },
  {
   "cell_type": "markdown",
   "id": "d6c8c3e9-9cef-443d-ad75-47d2736f583e",
   "metadata": {},
   "source": [
    "**Problem Statement**"
   ]
  },
  {
   "cell_type": "markdown",
   "id": "c8f77f43-b94e-48d5-a820-51b309f82554",
   "metadata": {},
   "source": [
    "By getting involved in the aviation sector, the company is braodening it's portfolio by buying and managing aircraft for both \n",
    "individual and commercial business. The distinct operational and safety issues connected to various aircraft models,however, \n",
    "are not well understood. To choose the aircraft with the best safety records and fewest hazards, it's difficult to evaluate \n",
    "past safety and performance data. Leadership in the aviation division will be better eqquiped to make wise purchases and put \n",
    "risk-reduction plans into action thanks to this analysis."
   ]
  },
  {
   "cell_type": "markdown",
   "id": "a7a9099d-43b5-430a-aba8-93ee36560f43",
   "metadata": {},
   "source": [
    "**Objectives**"
   ]
  },
  {
   "cell_type": "markdown",
   "id": "4f3fc073-4924-4e81-aa9e-042f6e6b8dbd",
   "metadata": {},
   "source": [
    "**1. Establish a Relationship Between Aircraft Features and Accident Severity**"
   ]
  },
  {
   "cell_type": "markdown",
   "id": "781c8e39-1e0a-4c6d-9dc1-970d64336bc2",
   "metadata": {},
   "source": [
    "To examine important aircraft features (Model,Make,Engine Type, Aircraft Damage) in conjuction with the injury metrics\n",
    "(Total Fatal Injuries, Total Serious Injuries, Total Minor Injuries, Total Uninjured) to identify which models routinely\n",
    "exhibit lower accident severity rates."
   ]
  },
  {
   "cell_type": "markdown",
   "id": "2d712300-b9a3-46aa-bada-7ba4a9234883",
   "metadata": {},
   "source": [
    "**2. Evaluate the Effects of Weather and Flight on the Severity of Accidents**"
   ]
  },
  {
   "cell_type": "markdown",
   "id": "c58348ae-0967-41b0-9aa1-94ceff8b55ee",
   "metadata": {},
   "source": [
    "Examine the effects of weather(VMC vs IMC) on accident outcomes. To also assertain when the hazards are greatest, \n",
    "examine incidents by general flight phases(Take off, Cruise/enoute, Approach/Landing)."
   ]
  },
  {
   "cell_type": "markdown",
   "id": "2058569c-a445-4f8e-b2f4-fcc3b3b2b241",
   "metadata": {},
   "source": [
    "**3. Create a Data-Informed Risk Profile to help with Aircraft Investing Decision**"
   ]
  },
  {
   "cell_type": "markdown",
   "id": "a73f875a-6d7f-4dd5-a8b0-c391b5a4658a",
   "metadata": {},
   "source": [
    "Considering accident fatalities, iinjury severity and aircraft damage to rank aircraft safety. Make recommendations on the \n",
    "safest aircraft types for the company's commercial and private aviation investments."
   ]
  },
  {
   "cell_type": "markdown",
   "id": "d598084f-3aca-487c-887e-c49b72c50b7c",
   "metadata": {},
   "source": [
    "**Data Cleaning and Visualization of The Dataset**"
   ]
  },
  {
   "cell_type": "markdown",
   "id": "f9964382-9210-4d26-8ec1-eb4be1808ba0",
   "metadata": {},
   "source": [
    "**1. Data Cleaning**"
   ]
  },
  {
   "cell_type": "markdown",
   "id": "ecf9baea-5ce4-4b7c-b7b3-984540d26975",
   "metadata": {},
   "source": [
    "**a) Importing and inspecting data**"
   ]
  },
  {
   "cell_type": "markdown",
   "id": "27b7caee-da20-4ff3-8310-e34f2170c642",
   "metadata": {},
   "source": [
    "We start by import the Pandas library,Numpy library, matplotlib.pyplot library that we'll be using in data cleaning and visualiasation and also load the AviationData using (pd.read_csv)."
   ]
  },
  {
   "cell_type": "code",
   "execution_count": 15,
   "id": "cc3e777b-ca12-4ed1-b443-7c12d2da642a",
   "metadata": {},
   "outputs": [],
   "source": [
    "import pandas as pd\n",
    "import numpy as np\n",
    "import matplotlib.pyplot as plt\n",
    "%matplotlib inline"
   ]
  },
  {
   "cell_type": "code",
   "execution_count": 16,
   "id": "89bf3ecf-0e34-4547-aaea-6b3af6fa6da4",
   "metadata": {},
   "outputs": [
    {
     "name": "stderr",
     "output_type": "stream",
     "text": [
      "C:\\Users\\User\\AppData\\Local\\Temp\\ipykernel_13364\\1965686645.py:1: DtypeWarning: Columns (6,7,28) have mixed types. Specify dtype option on import or set low_memory=False.\n",
      "  df = pd.read_csv(\"AviationData.csv\", encoding= \"latin-1\")\n"
     ]
    },
    {
     "data": {
      "text/html": [
       "<div>\n",
       "<style scoped>\n",
       "    .dataframe tbody tr th:only-of-type {\n",
       "        vertical-align: middle;\n",
       "    }\n",
       "\n",
       "    .dataframe tbody tr th {\n",
       "        vertical-align: top;\n",
       "    }\n",
       "\n",
       "    .dataframe thead th {\n",
       "        text-align: right;\n",
       "    }\n",
       "</style>\n",
       "<table border=\"1\" class=\"dataframe\">\n",
       "  <thead>\n",
       "    <tr style=\"text-align: right;\">\n",
       "      <th></th>\n",
       "      <th>Event.Id</th>\n",
       "      <th>Investigation.Type</th>\n",
       "      <th>Accident.Number</th>\n",
       "      <th>Event.Date</th>\n",
       "      <th>Location</th>\n",
       "      <th>Country</th>\n",
       "      <th>Latitude</th>\n",
       "      <th>Longitude</th>\n",
       "      <th>Airport.Code</th>\n",
       "      <th>Airport.Name</th>\n",
       "      <th>...</th>\n",
       "      <th>Purpose.of.flight</th>\n",
       "      <th>Air.carrier</th>\n",
       "      <th>Total.Fatal.Injuries</th>\n",
       "      <th>Total.Serious.Injuries</th>\n",
       "      <th>Total.Minor.Injuries</th>\n",
       "      <th>Total.Uninjured</th>\n",
       "      <th>Weather.Condition</th>\n",
       "      <th>Broad.phase.of.flight</th>\n",
       "      <th>Report.Status</th>\n",
       "      <th>Publication.Date</th>\n",
       "    </tr>\n",
       "  </thead>\n",
       "  <tbody>\n",
       "    <tr>\n",
       "      <th>0</th>\n",
       "      <td>20001218X45444</td>\n",
       "      <td>Accident</td>\n",
       "      <td>SEA87LA080</td>\n",
       "      <td>1948-10-24</td>\n",
       "      <td>MOOSE CREEK, ID</td>\n",
       "      <td>United States</td>\n",
       "      <td>NaN</td>\n",
       "      <td>NaN</td>\n",
       "      <td>NaN</td>\n",
       "      <td>NaN</td>\n",
       "      <td>...</td>\n",
       "      <td>Personal</td>\n",
       "      <td>NaN</td>\n",
       "      <td>2.0</td>\n",
       "      <td>0.0</td>\n",
       "      <td>0.0</td>\n",
       "      <td>0.0</td>\n",
       "      <td>UNK</td>\n",
       "      <td>Cruise</td>\n",
       "      <td>Probable Cause</td>\n",
       "      <td>NaN</td>\n",
       "    </tr>\n",
       "    <tr>\n",
       "      <th>1</th>\n",
       "      <td>20001218X45447</td>\n",
       "      <td>Accident</td>\n",
       "      <td>LAX94LA336</td>\n",
       "      <td>1962-07-19</td>\n",
       "      <td>BRIDGEPORT, CA</td>\n",
       "      <td>United States</td>\n",
       "      <td>NaN</td>\n",
       "      <td>NaN</td>\n",
       "      <td>NaN</td>\n",
       "      <td>NaN</td>\n",
       "      <td>...</td>\n",
       "      <td>Personal</td>\n",
       "      <td>NaN</td>\n",
       "      <td>4.0</td>\n",
       "      <td>0.0</td>\n",
       "      <td>0.0</td>\n",
       "      <td>0.0</td>\n",
       "      <td>UNK</td>\n",
       "      <td>Unknown</td>\n",
       "      <td>Probable Cause</td>\n",
       "      <td>19-09-1996</td>\n",
       "    </tr>\n",
       "    <tr>\n",
       "      <th>2</th>\n",
       "      <td>20061025X01555</td>\n",
       "      <td>Accident</td>\n",
       "      <td>NYC07LA005</td>\n",
       "      <td>1974-08-30</td>\n",
       "      <td>Saltville, VA</td>\n",
       "      <td>United States</td>\n",
       "      <td>36.922223</td>\n",
       "      <td>-81.878056</td>\n",
       "      <td>NaN</td>\n",
       "      <td>NaN</td>\n",
       "      <td>...</td>\n",
       "      <td>Personal</td>\n",
       "      <td>NaN</td>\n",
       "      <td>3.0</td>\n",
       "      <td>NaN</td>\n",
       "      <td>NaN</td>\n",
       "      <td>NaN</td>\n",
       "      <td>IMC</td>\n",
       "      <td>Cruise</td>\n",
       "      <td>Probable Cause</td>\n",
       "      <td>26-02-2007</td>\n",
       "    </tr>\n",
       "    <tr>\n",
       "      <th>3</th>\n",
       "      <td>20001218X45448</td>\n",
       "      <td>Accident</td>\n",
       "      <td>LAX96LA321</td>\n",
       "      <td>1977-06-19</td>\n",
       "      <td>EUREKA, CA</td>\n",
       "      <td>United States</td>\n",
       "      <td>NaN</td>\n",
       "      <td>NaN</td>\n",
       "      <td>NaN</td>\n",
       "      <td>NaN</td>\n",
       "      <td>...</td>\n",
       "      <td>Personal</td>\n",
       "      <td>NaN</td>\n",
       "      <td>2.0</td>\n",
       "      <td>0.0</td>\n",
       "      <td>0.0</td>\n",
       "      <td>0.0</td>\n",
       "      <td>IMC</td>\n",
       "      <td>Cruise</td>\n",
       "      <td>Probable Cause</td>\n",
       "      <td>12-09-2000</td>\n",
       "    </tr>\n",
       "    <tr>\n",
       "      <th>4</th>\n",
       "      <td>20041105X01764</td>\n",
       "      <td>Accident</td>\n",
       "      <td>CHI79FA064</td>\n",
       "      <td>1979-08-02</td>\n",
       "      <td>Canton, OH</td>\n",
       "      <td>United States</td>\n",
       "      <td>NaN</td>\n",
       "      <td>NaN</td>\n",
       "      <td>NaN</td>\n",
       "      <td>NaN</td>\n",
       "      <td>...</td>\n",
       "      <td>Personal</td>\n",
       "      <td>NaN</td>\n",
       "      <td>1.0</td>\n",
       "      <td>2.0</td>\n",
       "      <td>NaN</td>\n",
       "      <td>0.0</td>\n",
       "      <td>VMC</td>\n",
       "      <td>Approach</td>\n",
       "      <td>Probable Cause</td>\n",
       "      <td>16-04-1980</td>\n",
       "    </tr>\n",
       "    <tr>\n",
       "      <th>...</th>\n",
       "      <td>...</td>\n",
       "      <td>...</td>\n",
       "      <td>...</td>\n",
       "      <td>...</td>\n",
       "      <td>...</td>\n",
       "      <td>...</td>\n",
       "      <td>...</td>\n",
       "      <td>...</td>\n",
       "      <td>...</td>\n",
       "      <td>...</td>\n",
       "      <td>...</td>\n",
       "      <td>...</td>\n",
       "      <td>...</td>\n",
       "      <td>...</td>\n",
       "      <td>...</td>\n",
       "      <td>...</td>\n",
       "      <td>...</td>\n",
       "      <td>...</td>\n",
       "      <td>...</td>\n",
       "      <td>...</td>\n",
       "      <td>...</td>\n",
       "    </tr>\n",
       "    <tr>\n",
       "      <th>88884</th>\n",
       "      <td>20221227106491</td>\n",
       "      <td>Accident</td>\n",
       "      <td>ERA23LA093</td>\n",
       "      <td>2022-12-26</td>\n",
       "      <td>Annapolis, MD</td>\n",
       "      <td>United States</td>\n",
       "      <td>NaN</td>\n",
       "      <td>NaN</td>\n",
       "      <td>NaN</td>\n",
       "      <td>NaN</td>\n",
       "      <td>...</td>\n",
       "      <td>Personal</td>\n",
       "      <td>NaN</td>\n",
       "      <td>0.0</td>\n",
       "      <td>1.0</td>\n",
       "      <td>0.0</td>\n",
       "      <td>0.0</td>\n",
       "      <td>NaN</td>\n",
       "      <td>NaN</td>\n",
       "      <td>NaN</td>\n",
       "      <td>29-12-2022</td>\n",
       "    </tr>\n",
       "    <tr>\n",
       "      <th>88885</th>\n",
       "      <td>20221227106494</td>\n",
       "      <td>Accident</td>\n",
       "      <td>ERA23LA095</td>\n",
       "      <td>2022-12-26</td>\n",
       "      <td>Hampton, NH</td>\n",
       "      <td>United States</td>\n",
       "      <td>NaN</td>\n",
       "      <td>NaN</td>\n",
       "      <td>NaN</td>\n",
       "      <td>NaN</td>\n",
       "      <td>...</td>\n",
       "      <td>NaN</td>\n",
       "      <td>NaN</td>\n",
       "      <td>0.0</td>\n",
       "      <td>0.0</td>\n",
       "      <td>0.0</td>\n",
       "      <td>0.0</td>\n",
       "      <td>NaN</td>\n",
       "      <td>NaN</td>\n",
       "      <td>NaN</td>\n",
       "      <td>NaN</td>\n",
       "    </tr>\n",
       "    <tr>\n",
       "      <th>88886</th>\n",
       "      <td>20221227106497</td>\n",
       "      <td>Accident</td>\n",
       "      <td>WPR23LA075</td>\n",
       "      <td>2022-12-26</td>\n",
       "      <td>Payson, AZ</td>\n",
       "      <td>United States</td>\n",
       "      <td>341525N</td>\n",
       "      <td>1112021W</td>\n",
       "      <td>PAN</td>\n",
       "      <td>PAYSON</td>\n",
       "      <td>...</td>\n",
       "      <td>Personal</td>\n",
       "      <td>NaN</td>\n",
       "      <td>0.0</td>\n",
       "      <td>0.0</td>\n",
       "      <td>0.0</td>\n",
       "      <td>1.0</td>\n",
       "      <td>VMC</td>\n",
       "      <td>NaN</td>\n",
       "      <td>NaN</td>\n",
       "      <td>27-12-2022</td>\n",
       "    </tr>\n",
       "    <tr>\n",
       "      <th>88887</th>\n",
       "      <td>20221227106498</td>\n",
       "      <td>Accident</td>\n",
       "      <td>WPR23LA076</td>\n",
       "      <td>2022-12-26</td>\n",
       "      <td>Morgan, UT</td>\n",
       "      <td>United States</td>\n",
       "      <td>NaN</td>\n",
       "      <td>NaN</td>\n",
       "      <td>NaN</td>\n",
       "      <td>NaN</td>\n",
       "      <td>...</td>\n",
       "      <td>Personal</td>\n",
       "      <td>MC CESSNA 210N LLC</td>\n",
       "      <td>0.0</td>\n",
       "      <td>0.0</td>\n",
       "      <td>0.0</td>\n",
       "      <td>0.0</td>\n",
       "      <td>NaN</td>\n",
       "      <td>NaN</td>\n",
       "      <td>NaN</td>\n",
       "      <td>NaN</td>\n",
       "    </tr>\n",
       "    <tr>\n",
       "      <th>88888</th>\n",
       "      <td>20221230106513</td>\n",
       "      <td>Accident</td>\n",
       "      <td>ERA23LA097</td>\n",
       "      <td>2022-12-29</td>\n",
       "      <td>Athens, GA</td>\n",
       "      <td>United States</td>\n",
       "      <td>NaN</td>\n",
       "      <td>NaN</td>\n",
       "      <td>NaN</td>\n",
       "      <td>NaN</td>\n",
       "      <td>...</td>\n",
       "      <td>Personal</td>\n",
       "      <td>NaN</td>\n",
       "      <td>0.0</td>\n",
       "      <td>1.0</td>\n",
       "      <td>0.0</td>\n",
       "      <td>1.0</td>\n",
       "      <td>NaN</td>\n",
       "      <td>NaN</td>\n",
       "      <td>NaN</td>\n",
       "      <td>30-12-2022</td>\n",
       "    </tr>\n",
       "  </tbody>\n",
       "</table>\n",
       "<p>88889 rows × 31 columns</p>\n",
       "</div>"
      ],
      "text/plain": [
       "             Event.Id Investigation.Type Accident.Number  Event.Date  \\\n",
       "0      20001218X45444           Accident      SEA87LA080  1948-10-24   \n",
       "1      20001218X45447           Accident      LAX94LA336  1962-07-19   \n",
       "2      20061025X01555           Accident      NYC07LA005  1974-08-30   \n",
       "3      20001218X45448           Accident      LAX96LA321  1977-06-19   \n",
       "4      20041105X01764           Accident      CHI79FA064  1979-08-02   \n",
       "...               ...                ...             ...         ...   \n",
       "88884  20221227106491           Accident      ERA23LA093  2022-12-26   \n",
       "88885  20221227106494           Accident      ERA23LA095  2022-12-26   \n",
       "88886  20221227106497           Accident      WPR23LA075  2022-12-26   \n",
       "88887  20221227106498           Accident      WPR23LA076  2022-12-26   \n",
       "88888  20221230106513           Accident      ERA23LA097  2022-12-29   \n",
       "\n",
       "              Location        Country   Latitude  Longitude Airport.Code  \\\n",
       "0      MOOSE CREEK, ID  United States        NaN        NaN          NaN   \n",
       "1       BRIDGEPORT, CA  United States        NaN        NaN          NaN   \n",
       "2        Saltville, VA  United States  36.922223 -81.878056          NaN   \n",
       "3           EUREKA, CA  United States        NaN        NaN          NaN   \n",
       "4           Canton, OH  United States        NaN        NaN          NaN   \n",
       "...                ...            ...        ...        ...          ...   \n",
       "88884    Annapolis, MD  United States        NaN        NaN          NaN   \n",
       "88885      Hampton, NH  United States        NaN        NaN          NaN   \n",
       "88886       Payson, AZ  United States    341525N   1112021W          PAN   \n",
       "88887       Morgan, UT  United States        NaN        NaN          NaN   \n",
       "88888       Athens, GA  United States        NaN        NaN          NaN   \n",
       "\n",
       "      Airport.Name  ... Purpose.of.flight         Air.carrier  \\\n",
       "0              NaN  ...          Personal                 NaN   \n",
       "1              NaN  ...          Personal                 NaN   \n",
       "2              NaN  ...          Personal                 NaN   \n",
       "3              NaN  ...          Personal                 NaN   \n",
       "4              NaN  ...          Personal                 NaN   \n",
       "...            ...  ...               ...                 ...   \n",
       "88884          NaN  ...          Personal                 NaN   \n",
       "88885          NaN  ...               NaN                 NaN   \n",
       "88886       PAYSON  ...          Personal                 NaN   \n",
       "88887          NaN  ...          Personal  MC CESSNA 210N LLC   \n",
       "88888          NaN  ...          Personal                 NaN   \n",
       "\n",
       "      Total.Fatal.Injuries Total.Serious.Injuries Total.Minor.Injuries  \\\n",
       "0                      2.0                    0.0                  0.0   \n",
       "1                      4.0                    0.0                  0.0   \n",
       "2                      3.0                    NaN                  NaN   \n",
       "3                      2.0                    0.0                  0.0   \n",
       "4                      1.0                    2.0                  NaN   \n",
       "...                    ...                    ...                  ...   \n",
       "88884                  0.0                    1.0                  0.0   \n",
       "88885                  0.0                    0.0                  0.0   \n",
       "88886                  0.0                    0.0                  0.0   \n",
       "88887                  0.0                    0.0                  0.0   \n",
       "88888                  0.0                    1.0                  0.0   \n",
       "\n",
       "      Total.Uninjured Weather.Condition  Broad.phase.of.flight  \\\n",
       "0                 0.0               UNK                 Cruise   \n",
       "1                 0.0               UNK                Unknown   \n",
       "2                 NaN               IMC                 Cruise   \n",
       "3                 0.0               IMC                 Cruise   \n",
       "4                 0.0               VMC               Approach   \n",
       "...               ...               ...                    ...   \n",
       "88884             0.0               NaN                    NaN   \n",
       "88885             0.0               NaN                    NaN   \n",
       "88886             1.0               VMC                    NaN   \n",
       "88887             0.0               NaN                    NaN   \n",
       "88888             1.0               NaN                    NaN   \n",
       "\n",
       "        Report.Status Publication.Date  \n",
       "0      Probable Cause              NaN  \n",
       "1      Probable Cause       19-09-1996  \n",
       "2      Probable Cause       26-02-2007  \n",
       "3      Probable Cause       12-09-2000  \n",
       "4      Probable Cause       16-04-1980  \n",
       "...               ...              ...  \n",
       "88884             NaN       29-12-2022  \n",
       "88885             NaN              NaN  \n",
       "88886             NaN       27-12-2022  \n",
       "88887             NaN              NaN  \n",
       "88888             NaN       30-12-2022  \n",
       "\n",
       "[88889 rows x 31 columns]"
      ]
     },
     "execution_count": 16,
     "metadata": {},
     "output_type": "execute_result"
    }
   ],
   "source": [
    "df = pd.read_csv(\"AviationData.csv\", encoding= \"latin-1\", lowmemory= False)\n",
    "df.replace(\"-\", np.nan, inplace=True)\n",
    "#used latin-1 beacause utf-18 wasn't able to encode the csv file.\n",
    "df"
   ]
  },
  {
   "cell_type": "markdown",
   "id": "e4ba6b70-1ef7-4bc2-9fa4-ae07ed612dd4",
   "metadata": {},
   "source": [
    "Calling the first five and last five rows of the data."
   ]
  },
  {
   "cell_type": "code",
   "execution_count": 18,
   "id": "bd1f15a2-a9d9-46c2-a8f3-079c3c38374d",
   "metadata": {},
   "outputs": [
    {
     "data": {
      "text/html": [
       "<div>\n",
       "<style scoped>\n",
       "    .dataframe tbody tr th:only-of-type {\n",
       "        vertical-align: middle;\n",
       "    }\n",
       "\n",
       "    .dataframe tbody tr th {\n",
       "        vertical-align: top;\n",
       "    }\n",
       "\n",
       "    .dataframe thead th {\n",
       "        text-align: right;\n",
       "    }\n",
       "</style>\n",
       "<table border=\"1\" class=\"dataframe\">\n",
       "  <thead>\n",
       "    <tr style=\"text-align: right;\">\n",
       "      <th></th>\n",
       "      <th>Event.Id</th>\n",
       "      <th>Investigation.Type</th>\n",
       "      <th>Accident.Number</th>\n",
       "      <th>Event.Date</th>\n",
       "      <th>Location</th>\n",
       "      <th>Country</th>\n",
       "      <th>Latitude</th>\n",
       "      <th>Longitude</th>\n",
       "      <th>Airport.Code</th>\n",
       "      <th>Airport.Name</th>\n",
       "      <th>...</th>\n",
       "      <th>Purpose.of.flight</th>\n",
       "      <th>Air.carrier</th>\n",
       "      <th>Total.Fatal.Injuries</th>\n",
       "      <th>Total.Serious.Injuries</th>\n",
       "      <th>Total.Minor.Injuries</th>\n",
       "      <th>Total.Uninjured</th>\n",
       "      <th>Weather.Condition</th>\n",
       "      <th>Broad.phase.of.flight</th>\n",
       "      <th>Report.Status</th>\n",
       "      <th>Publication.Date</th>\n",
       "    </tr>\n",
       "  </thead>\n",
       "  <tbody>\n",
       "    <tr>\n",
       "      <th>0</th>\n",
       "      <td>20001218X45444</td>\n",
       "      <td>Accident</td>\n",
       "      <td>SEA87LA080</td>\n",
       "      <td>1948-10-24</td>\n",
       "      <td>MOOSE CREEK, ID</td>\n",
       "      <td>United States</td>\n",
       "      <td>NaN</td>\n",
       "      <td>NaN</td>\n",
       "      <td>NaN</td>\n",
       "      <td>NaN</td>\n",
       "      <td>...</td>\n",
       "      <td>Personal</td>\n",
       "      <td>NaN</td>\n",
       "      <td>2.0</td>\n",
       "      <td>0.0</td>\n",
       "      <td>0.0</td>\n",
       "      <td>0.0</td>\n",
       "      <td>UNK</td>\n",
       "      <td>Cruise</td>\n",
       "      <td>Probable Cause</td>\n",
       "      <td>NaN</td>\n",
       "    </tr>\n",
       "    <tr>\n",
       "      <th>1</th>\n",
       "      <td>20001218X45447</td>\n",
       "      <td>Accident</td>\n",
       "      <td>LAX94LA336</td>\n",
       "      <td>1962-07-19</td>\n",
       "      <td>BRIDGEPORT, CA</td>\n",
       "      <td>United States</td>\n",
       "      <td>NaN</td>\n",
       "      <td>NaN</td>\n",
       "      <td>NaN</td>\n",
       "      <td>NaN</td>\n",
       "      <td>...</td>\n",
       "      <td>Personal</td>\n",
       "      <td>NaN</td>\n",
       "      <td>4.0</td>\n",
       "      <td>0.0</td>\n",
       "      <td>0.0</td>\n",
       "      <td>0.0</td>\n",
       "      <td>UNK</td>\n",
       "      <td>Unknown</td>\n",
       "      <td>Probable Cause</td>\n",
       "      <td>19-09-1996</td>\n",
       "    </tr>\n",
       "    <tr>\n",
       "      <th>2</th>\n",
       "      <td>20061025X01555</td>\n",
       "      <td>Accident</td>\n",
       "      <td>NYC07LA005</td>\n",
       "      <td>1974-08-30</td>\n",
       "      <td>Saltville, VA</td>\n",
       "      <td>United States</td>\n",
       "      <td>36.922223</td>\n",
       "      <td>-81.878056</td>\n",
       "      <td>NaN</td>\n",
       "      <td>NaN</td>\n",
       "      <td>...</td>\n",
       "      <td>Personal</td>\n",
       "      <td>NaN</td>\n",
       "      <td>3.0</td>\n",
       "      <td>NaN</td>\n",
       "      <td>NaN</td>\n",
       "      <td>NaN</td>\n",
       "      <td>IMC</td>\n",
       "      <td>Cruise</td>\n",
       "      <td>Probable Cause</td>\n",
       "      <td>26-02-2007</td>\n",
       "    </tr>\n",
       "    <tr>\n",
       "      <th>3</th>\n",
       "      <td>20001218X45448</td>\n",
       "      <td>Accident</td>\n",
       "      <td>LAX96LA321</td>\n",
       "      <td>1977-06-19</td>\n",
       "      <td>EUREKA, CA</td>\n",
       "      <td>United States</td>\n",
       "      <td>NaN</td>\n",
       "      <td>NaN</td>\n",
       "      <td>NaN</td>\n",
       "      <td>NaN</td>\n",
       "      <td>...</td>\n",
       "      <td>Personal</td>\n",
       "      <td>NaN</td>\n",
       "      <td>2.0</td>\n",
       "      <td>0.0</td>\n",
       "      <td>0.0</td>\n",
       "      <td>0.0</td>\n",
       "      <td>IMC</td>\n",
       "      <td>Cruise</td>\n",
       "      <td>Probable Cause</td>\n",
       "      <td>12-09-2000</td>\n",
       "    </tr>\n",
       "    <tr>\n",
       "      <th>4</th>\n",
       "      <td>20041105X01764</td>\n",
       "      <td>Accident</td>\n",
       "      <td>CHI79FA064</td>\n",
       "      <td>1979-08-02</td>\n",
       "      <td>Canton, OH</td>\n",
       "      <td>United States</td>\n",
       "      <td>NaN</td>\n",
       "      <td>NaN</td>\n",
       "      <td>NaN</td>\n",
       "      <td>NaN</td>\n",
       "      <td>...</td>\n",
       "      <td>Personal</td>\n",
       "      <td>NaN</td>\n",
       "      <td>1.0</td>\n",
       "      <td>2.0</td>\n",
       "      <td>NaN</td>\n",
       "      <td>0.0</td>\n",
       "      <td>VMC</td>\n",
       "      <td>Approach</td>\n",
       "      <td>Probable Cause</td>\n",
       "      <td>16-04-1980</td>\n",
       "    </tr>\n",
       "  </tbody>\n",
       "</table>\n",
       "<p>5 rows × 31 columns</p>\n",
       "</div>"
      ],
      "text/plain": [
       "         Event.Id Investigation.Type Accident.Number  Event.Date  \\\n",
       "0  20001218X45444           Accident      SEA87LA080  1948-10-24   \n",
       "1  20001218X45447           Accident      LAX94LA336  1962-07-19   \n",
       "2  20061025X01555           Accident      NYC07LA005  1974-08-30   \n",
       "3  20001218X45448           Accident      LAX96LA321  1977-06-19   \n",
       "4  20041105X01764           Accident      CHI79FA064  1979-08-02   \n",
       "\n",
       "          Location        Country   Latitude  Longitude Airport.Code  \\\n",
       "0  MOOSE CREEK, ID  United States        NaN        NaN          NaN   \n",
       "1   BRIDGEPORT, CA  United States        NaN        NaN          NaN   \n",
       "2    Saltville, VA  United States  36.922223 -81.878056          NaN   \n",
       "3       EUREKA, CA  United States        NaN        NaN          NaN   \n",
       "4       Canton, OH  United States        NaN        NaN          NaN   \n",
       "\n",
       "  Airport.Name  ... Purpose.of.flight Air.carrier Total.Fatal.Injuries  \\\n",
       "0          NaN  ...          Personal         NaN                  2.0   \n",
       "1          NaN  ...          Personal         NaN                  4.0   \n",
       "2          NaN  ...          Personal         NaN                  3.0   \n",
       "3          NaN  ...          Personal         NaN                  2.0   \n",
       "4          NaN  ...          Personal         NaN                  1.0   \n",
       "\n",
       "  Total.Serious.Injuries Total.Minor.Injuries Total.Uninjured  \\\n",
       "0                    0.0                  0.0             0.0   \n",
       "1                    0.0                  0.0             0.0   \n",
       "2                    NaN                  NaN             NaN   \n",
       "3                    0.0                  0.0             0.0   \n",
       "4                    2.0                  NaN             0.0   \n",
       "\n",
       "  Weather.Condition  Broad.phase.of.flight   Report.Status Publication.Date  \n",
       "0               UNK                 Cruise  Probable Cause              NaN  \n",
       "1               UNK                Unknown  Probable Cause       19-09-1996  \n",
       "2               IMC                 Cruise  Probable Cause       26-02-2007  \n",
       "3               IMC                 Cruise  Probable Cause       12-09-2000  \n",
       "4               VMC               Approach  Probable Cause       16-04-1980  \n",
       "\n",
       "[5 rows x 31 columns]"
      ]
     },
     "execution_count": 18,
     "metadata": {},
     "output_type": "execute_result"
    }
   ],
   "source": [
    "#called the first five rows using .head()\n",
    "df.head()"
   ]
  },
  {
   "cell_type": "code",
   "execution_count": 19,
   "id": "3633b5bc-dc05-41de-a09e-34bdc5ad30a5",
   "metadata": {},
   "outputs": [
    {
     "data": {
      "text/html": [
       "<div>\n",
       "<style scoped>\n",
       "    .dataframe tbody tr th:only-of-type {\n",
       "        vertical-align: middle;\n",
       "    }\n",
       "\n",
       "    .dataframe tbody tr th {\n",
       "        vertical-align: top;\n",
       "    }\n",
       "\n",
       "    .dataframe thead th {\n",
       "        text-align: right;\n",
       "    }\n",
       "</style>\n",
       "<table border=\"1\" class=\"dataframe\">\n",
       "  <thead>\n",
       "    <tr style=\"text-align: right;\">\n",
       "      <th></th>\n",
       "      <th>Event.Id</th>\n",
       "      <th>Investigation.Type</th>\n",
       "      <th>Accident.Number</th>\n",
       "      <th>Event.Date</th>\n",
       "      <th>Location</th>\n",
       "      <th>Country</th>\n",
       "      <th>Latitude</th>\n",
       "      <th>Longitude</th>\n",
       "      <th>Airport.Code</th>\n",
       "      <th>Airport.Name</th>\n",
       "      <th>...</th>\n",
       "      <th>Purpose.of.flight</th>\n",
       "      <th>Air.carrier</th>\n",
       "      <th>Total.Fatal.Injuries</th>\n",
       "      <th>Total.Serious.Injuries</th>\n",
       "      <th>Total.Minor.Injuries</th>\n",
       "      <th>Total.Uninjured</th>\n",
       "      <th>Weather.Condition</th>\n",
       "      <th>Broad.phase.of.flight</th>\n",
       "      <th>Report.Status</th>\n",
       "      <th>Publication.Date</th>\n",
       "    </tr>\n",
       "  </thead>\n",
       "  <tbody>\n",
       "    <tr>\n",
       "      <th>88884</th>\n",
       "      <td>20221227106491</td>\n",
       "      <td>Accident</td>\n",
       "      <td>ERA23LA093</td>\n",
       "      <td>2022-12-26</td>\n",
       "      <td>Annapolis, MD</td>\n",
       "      <td>United States</td>\n",
       "      <td>NaN</td>\n",
       "      <td>NaN</td>\n",
       "      <td>NaN</td>\n",
       "      <td>NaN</td>\n",
       "      <td>...</td>\n",
       "      <td>Personal</td>\n",
       "      <td>NaN</td>\n",
       "      <td>0.0</td>\n",
       "      <td>1.0</td>\n",
       "      <td>0.0</td>\n",
       "      <td>0.0</td>\n",
       "      <td>NaN</td>\n",
       "      <td>NaN</td>\n",
       "      <td>NaN</td>\n",
       "      <td>29-12-2022</td>\n",
       "    </tr>\n",
       "    <tr>\n",
       "      <th>88885</th>\n",
       "      <td>20221227106494</td>\n",
       "      <td>Accident</td>\n",
       "      <td>ERA23LA095</td>\n",
       "      <td>2022-12-26</td>\n",
       "      <td>Hampton, NH</td>\n",
       "      <td>United States</td>\n",
       "      <td>NaN</td>\n",
       "      <td>NaN</td>\n",
       "      <td>NaN</td>\n",
       "      <td>NaN</td>\n",
       "      <td>...</td>\n",
       "      <td>NaN</td>\n",
       "      <td>NaN</td>\n",
       "      <td>0.0</td>\n",
       "      <td>0.0</td>\n",
       "      <td>0.0</td>\n",
       "      <td>0.0</td>\n",
       "      <td>NaN</td>\n",
       "      <td>NaN</td>\n",
       "      <td>NaN</td>\n",
       "      <td>NaN</td>\n",
       "    </tr>\n",
       "    <tr>\n",
       "      <th>88886</th>\n",
       "      <td>20221227106497</td>\n",
       "      <td>Accident</td>\n",
       "      <td>WPR23LA075</td>\n",
       "      <td>2022-12-26</td>\n",
       "      <td>Payson, AZ</td>\n",
       "      <td>United States</td>\n",
       "      <td>341525N</td>\n",
       "      <td>1112021W</td>\n",
       "      <td>PAN</td>\n",
       "      <td>PAYSON</td>\n",
       "      <td>...</td>\n",
       "      <td>Personal</td>\n",
       "      <td>NaN</td>\n",
       "      <td>0.0</td>\n",
       "      <td>0.0</td>\n",
       "      <td>0.0</td>\n",
       "      <td>1.0</td>\n",
       "      <td>VMC</td>\n",
       "      <td>NaN</td>\n",
       "      <td>NaN</td>\n",
       "      <td>27-12-2022</td>\n",
       "    </tr>\n",
       "    <tr>\n",
       "      <th>88887</th>\n",
       "      <td>20221227106498</td>\n",
       "      <td>Accident</td>\n",
       "      <td>WPR23LA076</td>\n",
       "      <td>2022-12-26</td>\n",
       "      <td>Morgan, UT</td>\n",
       "      <td>United States</td>\n",
       "      <td>NaN</td>\n",
       "      <td>NaN</td>\n",
       "      <td>NaN</td>\n",
       "      <td>NaN</td>\n",
       "      <td>...</td>\n",
       "      <td>Personal</td>\n",
       "      <td>MC CESSNA 210N LLC</td>\n",
       "      <td>0.0</td>\n",
       "      <td>0.0</td>\n",
       "      <td>0.0</td>\n",
       "      <td>0.0</td>\n",
       "      <td>NaN</td>\n",
       "      <td>NaN</td>\n",
       "      <td>NaN</td>\n",
       "      <td>NaN</td>\n",
       "    </tr>\n",
       "    <tr>\n",
       "      <th>88888</th>\n",
       "      <td>20221230106513</td>\n",
       "      <td>Accident</td>\n",
       "      <td>ERA23LA097</td>\n",
       "      <td>2022-12-29</td>\n",
       "      <td>Athens, GA</td>\n",
       "      <td>United States</td>\n",
       "      <td>NaN</td>\n",
       "      <td>NaN</td>\n",
       "      <td>NaN</td>\n",
       "      <td>NaN</td>\n",
       "      <td>...</td>\n",
       "      <td>Personal</td>\n",
       "      <td>NaN</td>\n",
       "      <td>0.0</td>\n",
       "      <td>1.0</td>\n",
       "      <td>0.0</td>\n",
       "      <td>1.0</td>\n",
       "      <td>NaN</td>\n",
       "      <td>NaN</td>\n",
       "      <td>NaN</td>\n",
       "      <td>30-12-2022</td>\n",
       "    </tr>\n",
       "  </tbody>\n",
       "</table>\n",
       "<p>5 rows × 31 columns</p>\n",
       "</div>"
      ],
      "text/plain": [
       "             Event.Id Investigation.Type Accident.Number  Event.Date  \\\n",
       "88884  20221227106491           Accident      ERA23LA093  2022-12-26   \n",
       "88885  20221227106494           Accident      ERA23LA095  2022-12-26   \n",
       "88886  20221227106497           Accident      WPR23LA075  2022-12-26   \n",
       "88887  20221227106498           Accident      WPR23LA076  2022-12-26   \n",
       "88888  20221230106513           Accident      ERA23LA097  2022-12-29   \n",
       "\n",
       "            Location        Country Latitude Longitude Airport.Code  \\\n",
       "88884  Annapolis, MD  United States      NaN       NaN          NaN   \n",
       "88885    Hampton, NH  United States      NaN       NaN          NaN   \n",
       "88886     Payson, AZ  United States  341525N  1112021W          PAN   \n",
       "88887     Morgan, UT  United States      NaN       NaN          NaN   \n",
       "88888     Athens, GA  United States      NaN       NaN          NaN   \n",
       "\n",
       "      Airport.Name  ... Purpose.of.flight         Air.carrier  \\\n",
       "88884          NaN  ...          Personal                 NaN   \n",
       "88885          NaN  ...               NaN                 NaN   \n",
       "88886       PAYSON  ...          Personal                 NaN   \n",
       "88887          NaN  ...          Personal  MC CESSNA 210N LLC   \n",
       "88888          NaN  ...          Personal                 NaN   \n",
       "\n",
       "      Total.Fatal.Injuries Total.Serious.Injuries Total.Minor.Injuries  \\\n",
       "88884                  0.0                    1.0                  0.0   \n",
       "88885                  0.0                    0.0                  0.0   \n",
       "88886                  0.0                    0.0                  0.0   \n",
       "88887                  0.0                    0.0                  0.0   \n",
       "88888                  0.0                    1.0                  0.0   \n",
       "\n",
       "      Total.Uninjured Weather.Condition  Broad.phase.of.flight Report.Status  \\\n",
       "88884             0.0               NaN                    NaN           NaN   \n",
       "88885             0.0               NaN                    NaN           NaN   \n",
       "88886             1.0               VMC                    NaN           NaN   \n",
       "88887             0.0               NaN                    NaN           NaN   \n",
       "88888             1.0               NaN                    NaN           NaN   \n",
       "\n",
       "      Publication.Date  \n",
       "88884       29-12-2022  \n",
       "88885              NaN  \n",
       "88886       27-12-2022  \n",
       "88887              NaN  \n",
       "88888       30-12-2022  \n",
       "\n",
       "[5 rows x 31 columns]"
      ]
     },
     "execution_count": 19,
     "metadata": {},
     "output_type": "execute_result"
    }
   ],
   "source": [
    "#called the last five rows using .tail()\n",
    "df.tail()"
   ]
  },
  {
   "cell_type": "code",
   "execution_count": 20,
   "id": "13d36332-7c2c-4466-99bb-25d88ba9fe72",
   "metadata": {},
   "outputs": [
    {
     "name": "stdout",
     "output_type": "stream",
     "text": [
      "<class 'pandas.core.frame.DataFrame'>\n",
      "RangeIndex: 88889 entries, 0 to 88888\n",
      "Data columns (total 31 columns):\n",
      " #   Column                  Non-Null Count  Dtype  \n",
      "---  ------                  --------------  -----  \n",
      " 0   Event.Id                88889 non-null  object \n",
      " 1   Investigation.Type      88889 non-null  object \n",
      " 2   Accident.Number         88889 non-null  object \n",
      " 3   Event.Date              88889 non-null  object \n",
      " 4   Location                88837 non-null  object \n",
      " 5   Country                 88663 non-null  object \n",
      " 6   Latitude                34382 non-null  object \n",
      " 7   Longitude               34373 non-null  object \n",
      " 8   Airport.Code            50130 non-null  object \n",
      " 9   Airport.Name            52704 non-null  object \n",
      " 10  Injury.Severity         87889 non-null  object \n",
      " 11  Aircraft.damage         85695 non-null  object \n",
      " 12  Aircraft.Category       32287 non-null  object \n",
      " 13  Registration.Number     87507 non-null  object \n",
      " 14  Make                    88826 non-null  object \n",
      " 15  Model                   88797 non-null  object \n",
      " 16  Amateur.Built           88787 non-null  object \n",
      " 17  Number.of.Engines       82805 non-null  float64\n",
      " 18  Engine.Type             81793 non-null  object \n",
      " 19  FAR.Description         32023 non-null  object \n",
      " 20  Schedule                12582 non-null  object \n",
      " 21  Purpose.of.flight       82697 non-null  object \n",
      " 22  Air.carrier             16648 non-null  object \n",
      " 23  Total.Fatal.Injuries    77488 non-null  float64\n",
      " 24  Total.Serious.Injuries  76379 non-null  float64\n",
      " 25  Total.Minor.Injuries    76956 non-null  float64\n",
      " 26  Total.Uninjured         82977 non-null  float64\n",
      " 27  Weather.Condition       84397 non-null  object \n",
      " 28  Broad.phase.of.flight   61724 non-null  object \n",
      " 29  Report.Status           82505 non-null  object \n",
      " 30  Publication.Date        75118 non-null  object \n",
      "dtypes: float64(5), object(26)\n",
      "memory usage: 21.0+ MB\n"
     ]
    }
   ],
   "source": [
    "#used the .info() to have an over view of the entire dataset(dtypes,missing values,overall structures)\n",
    "df.info()"
   ]
  },
  {
   "cell_type": "markdown",
   "id": "f15450d2-7b40-4e10-a6ad-24fa94b9a4a0",
   "metadata": {},
   "source": [
    "The dataset is a pandas DataFrame that has a combination of objects and floats ; 5 columns are floats and 26 columns are objects."
   ]
  },
  {
   "cell_type": "markdown",
   "id": "8d0d1169-9c6a-4c2e-9031-b0aa94d42884",
   "metadata": {},
   "source": [
    "We also get to see the columns with the most number of missing values and the ones that have less missing values."
   ]
  },
  {
   "cell_type": "code",
   "execution_count": 23,
   "id": "32476980-7251-4479-a8a7-a05ba79de41d",
   "metadata": {},
   "outputs": [
    {
     "data": {
      "text/plain": [
       "(88889, 31)"
      ]
     },
     "execution_count": 23,
     "metadata": {},
     "output_type": "execute_result"
    }
   ],
   "source": [
    "#use the .shape to check the shape of the dataset\n",
    "df.shape"
   ]
  },
  {
   "cell_type": "markdown",
   "id": "e267b053-70fd-4cfb-8eaf-df5bda5a1237",
   "metadata": {},
   "source": [
    "The Aviation dataset has 88889 rows and 31 columns, making it a two dimensional matrix"
   ]
  },
  {
   "cell_type": "code",
   "execution_count": 25,
   "id": "37f1972c-fb05-4bec-bbdc-2f13e7ef9686",
   "metadata": {},
   "outputs": [
    {
     "data": {
      "text/plain": [
       "Index(['Event.Id', 'Investigation.Type', 'Accident.Number', 'Event.Date',\n",
       "       'Location', 'Country', 'Latitude', 'Longitude', 'Airport.Code',\n",
       "       'Airport.Name', 'Injury.Severity', 'Aircraft.damage',\n",
       "       'Aircraft.Category', 'Registration.Number', 'Make', 'Model',\n",
       "       'Amateur.Built', 'Number.of.Engines', 'Engine.Type', 'FAR.Description',\n",
       "       'Schedule', 'Purpose.of.flight', 'Air.carrier', 'Total.Fatal.Injuries',\n",
       "       'Total.Serious.Injuries', 'Total.Minor.Injuries', 'Total.Uninjured',\n",
       "       'Weather.Condition', 'Broad.phase.of.flight', 'Report.Status',\n",
       "       'Publication.Date'],\n",
       "      dtype='object')"
      ]
     },
     "execution_count": 25,
     "metadata": {},
     "output_type": "execute_result"
    }
   ],
   "source": [
    "#use the .column fnction to check the columns in the data\n",
    "df.columns\n",
    "#This gives us the total columns taht are in the dataset"
   ]
  },
  {
   "cell_type": "code",
   "execution_count": 26,
   "id": "697a185a-cb06-4945-9618-eb6a992c1690",
   "metadata": {},
   "outputs": [
    {
     "data": {
      "text/html": [
       "<div>\n",
       "<style scoped>\n",
       "    .dataframe tbody tr th:only-of-type {\n",
       "        vertical-align: middle;\n",
       "    }\n",
       "\n",
       "    .dataframe tbody tr th {\n",
       "        vertical-align: top;\n",
       "    }\n",
       "\n",
       "    .dataframe thead th {\n",
       "        text-align: right;\n",
       "    }\n",
       "</style>\n",
       "<table border=\"1\" class=\"dataframe\">\n",
       "  <thead>\n",
       "    <tr style=\"text-align: right;\">\n",
       "      <th></th>\n",
       "      <th>Number.of.Engines</th>\n",
       "      <th>Total.Fatal.Injuries</th>\n",
       "      <th>Total.Serious.Injuries</th>\n",
       "      <th>Total.Minor.Injuries</th>\n",
       "      <th>Total.Uninjured</th>\n",
       "    </tr>\n",
       "  </thead>\n",
       "  <tbody>\n",
       "    <tr>\n",
       "      <th>count</th>\n",
       "      <td>82805.000000</td>\n",
       "      <td>77488.000000</td>\n",
       "      <td>76379.000000</td>\n",
       "      <td>76956.000000</td>\n",
       "      <td>82977.000000</td>\n",
       "    </tr>\n",
       "    <tr>\n",
       "      <th>mean</th>\n",
       "      <td>1.146585</td>\n",
       "      <td>0.647855</td>\n",
       "      <td>0.279881</td>\n",
       "      <td>0.357061</td>\n",
       "      <td>5.325440</td>\n",
       "    </tr>\n",
       "    <tr>\n",
       "      <th>std</th>\n",
       "      <td>0.446510</td>\n",
       "      <td>5.485960</td>\n",
       "      <td>1.544084</td>\n",
       "      <td>2.235625</td>\n",
       "      <td>27.913634</td>\n",
       "    </tr>\n",
       "    <tr>\n",
       "      <th>min</th>\n",
       "      <td>0.000000</td>\n",
       "      <td>0.000000</td>\n",
       "      <td>0.000000</td>\n",
       "      <td>0.000000</td>\n",
       "      <td>0.000000</td>\n",
       "    </tr>\n",
       "    <tr>\n",
       "      <th>25%</th>\n",
       "      <td>1.000000</td>\n",
       "      <td>0.000000</td>\n",
       "      <td>0.000000</td>\n",
       "      <td>0.000000</td>\n",
       "      <td>0.000000</td>\n",
       "    </tr>\n",
       "    <tr>\n",
       "      <th>50%</th>\n",
       "      <td>1.000000</td>\n",
       "      <td>0.000000</td>\n",
       "      <td>0.000000</td>\n",
       "      <td>0.000000</td>\n",
       "      <td>1.000000</td>\n",
       "    </tr>\n",
       "    <tr>\n",
       "      <th>75%</th>\n",
       "      <td>1.000000</td>\n",
       "      <td>0.000000</td>\n",
       "      <td>0.000000</td>\n",
       "      <td>0.000000</td>\n",
       "      <td>2.000000</td>\n",
       "    </tr>\n",
       "    <tr>\n",
       "      <th>max</th>\n",
       "      <td>8.000000</td>\n",
       "      <td>349.000000</td>\n",
       "      <td>161.000000</td>\n",
       "      <td>380.000000</td>\n",
       "      <td>699.000000</td>\n",
       "    </tr>\n",
       "  </tbody>\n",
       "</table>\n",
       "</div>"
      ],
      "text/plain": [
       "       Number.of.Engines  Total.Fatal.Injuries  Total.Serious.Injuries  \\\n",
       "count       82805.000000          77488.000000            76379.000000   \n",
       "mean            1.146585              0.647855                0.279881   \n",
       "std             0.446510              5.485960                1.544084   \n",
       "min             0.000000              0.000000                0.000000   \n",
       "25%             1.000000              0.000000                0.000000   \n",
       "50%             1.000000              0.000000                0.000000   \n",
       "75%             1.000000              0.000000                0.000000   \n",
       "max             8.000000            349.000000              161.000000   \n",
       "\n",
       "       Total.Minor.Injuries  Total.Uninjured  \n",
       "count          76956.000000     82977.000000  \n",
       "mean               0.357061         5.325440  \n",
       "std                2.235625        27.913634  \n",
       "min                0.000000         0.000000  \n",
       "25%                0.000000         0.000000  \n",
       "50%                0.000000         1.000000  \n",
       "75%                0.000000         2.000000  \n",
       "max              380.000000       699.000000  "
      ]
     },
     "execution_count": 26,
     "metadata": {},
     "output_type": "execute_result"
    }
   ],
   "source": [
    "#do the .describes to get an overview of the data\n",
    "df.describe()"
   ]
  },
  {
   "cell_type": "markdown",
   "id": "9a2eec55-1db7-4373-aab9-ed5951a2b555",
   "metadata": {},
   "source": [
    "Only the numeric columns are affected/inputed using the method. We see the count,mean,minimum and maximum values."
   ]
  },
  {
   "cell_type": "markdown",
   "id": "90d5a315-6b1c-4bcc-b9aa-96775251c8d5",
   "metadata": {},
   "source": [
    "**b) Handling Missing Values and Inconsistent Data**"
   ]
  },
  {
   "cell_type": "markdown",
   "id": "ecc3d1db-7750-4b54-99a7-2459b93db64e",
   "metadata": {},
   "source": [
    "We start by checkiing the null and placeholder values in the dataset."
   ]
  },
  {
   "cell_type": "code",
   "execution_count": 30,
   "id": "7161e40e-7241-49d0-9c7a-0c23e2a733ab",
   "metadata": {},
   "outputs": [
    {
     "data": {
      "text/html": [
       "<div>\n",
       "<style scoped>\n",
       "    .dataframe tbody tr th:only-of-type {\n",
       "        vertical-align: middle;\n",
       "    }\n",
       "\n",
       "    .dataframe tbody tr th {\n",
       "        vertical-align: top;\n",
       "    }\n",
       "\n",
       "    .dataframe thead th {\n",
       "        text-align: right;\n",
       "    }\n",
       "</style>\n",
       "<table border=\"1\" class=\"dataframe\">\n",
       "  <thead>\n",
       "    <tr style=\"text-align: right;\">\n",
       "      <th></th>\n",
       "      <th>Event.Id</th>\n",
       "      <th>Investigation.Type</th>\n",
       "      <th>Accident.Number</th>\n",
       "      <th>Event.Date</th>\n",
       "      <th>Location</th>\n",
       "      <th>Country</th>\n",
       "      <th>Latitude</th>\n",
       "      <th>Longitude</th>\n",
       "      <th>Airport.Code</th>\n",
       "      <th>Airport.Name</th>\n",
       "      <th>...</th>\n",
       "      <th>Purpose.of.flight</th>\n",
       "      <th>Air.carrier</th>\n",
       "      <th>Total.Fatal.Injuries</th>\n",
       "      <th>Total.Serious.Injuries</th>\n",
       "      <th>Total.Minor.Injuries</th>\n",
       "      <th>Total.Uninjured</th>\n",
       "      <th>Weather.Condition</th>\n",
       "      <th>Broad.phase.of.flight</th>\n",
       "      <th>Report.Status</th>\n",
       "      <th>Publication.Date</th>\n",
       "    </tr>\n",
       "  </thead>\n",
       "  <tbody>\n",
       "    <tr>\n",
       "      <th>0</th>\n",
       "      <td>False</td>\n",
       "      <td>False</td>\n",
       "      <td>False</td>\n",
       "      <td>False</td>\n",
       "      <td>False</td>\n",
       "      <td>False</td>\n",
       "      <td>True</td>\n",
       "      <td>True</td>\n",
       "      <td>True</td>\n",
       "      <td>True</td>\n",
       "      <td>...</td>\n",
       "      <td>False</td>\n",
       "      <td>True</td>\n",
       "      <td>False</td>\n",
       "      <td>False</td>\n",
       "      <td>False</td>\n",
       "      <td>False</td>\n",
       "      <td>False</td>\n",
       "      <td>False</td>\n",
       "      <td>False</td>\n",
       "      <td>True</td>\n",
       "    </tr>\n",
       "    <tr>\n",
       "      <th>1</th>\n",
       "      <td>False</td>\n",
       "      <td>False</td>\n",
       "      <td>False</td>\n",
       "      <td>False</td>\n",
       "      <td>False</td>\n",
       "      <td>False</td>\n",
       "      <td>True</td>\n",
       "      <td>True</td>\n",
       "      <td>True</td>\n",
       "      <td>True</td>\n",
       "      <td>...</td>\n",
       "      <td>False</td>\n",
       "      <td>True</td>\n",
       "      <td>False</td>\n",
       "      <td>False</td>\n",
       "      <td>False</td>\n",
       "      <td>False</td>\n",
       "      <td>False</td>\n",
       "      <td>False</td>\n",
       "      <td>False</td>\n",
       "      <td>False</td>\n",
       "    </tr>\n",
       "    <tr>\n",
       "      <th>2</th>\n",
       "      <td>False</td>\n",
       "      <td>False</td>\n",
       "      <td>False</td>\n",
       "      <td>False</td>\n",
       "      <td>False</td>\n",
       "      <td>False</td>\n",
       "      <td>False</td>\n",
       "      <td>False</td>\n",
       "      <td>True</td>\n",
       "      <td>True</td>\n",
       "      <td>...</td>\n",
       "      <td>False</td>\n",
       "      <td>True</td>\n",
       "      <td>False</td>\n",
       "      <td>True</td>\n",
       "      <td>True</td>\n",
       "      <td>True</td>\n",
       "      <td>False</td>\n",
       "      <td>False</td>\n",
       "      <td>False</td>\n",
       "      <td>False</td>\n",
       "    </tr>\n",
       "    <tr>\n",
       "      <th>3</th>\n",
       "      <td>False</td>\n",
       "      <td>False</td>\n",
       "      <td>False</td>\n",
       "      <td>False</td>\n",
       "      <td>False</td>\n",
       "      <td>False</td>\n",
       "      <td>True</td>\n",
       "      <td>True</td>\n",
       "      <td>True</td>\n",
       "      <td>True</td>\n",
       "      <td>...</td>\n",
       "      <td>False</td>\n",
       "      <td>True</td>\n",
       "      <td>False</td>\n",
       "      <td>False</td>\n",
       "      <td>False</td>\n",
       "      <td>False</td>\n",
       "      <td>False</td>\n",
       "      <td>False</td>\n",
       "      <td>False</td>\n",
       "      <td>False</td>\n",
       "    </tr>\n",
       "    <tr>\n",
       "      <th>4</th>\n",
       "      <td>False</td>\n",
       "      <td>False</td>\n",
       "      <td>False</td>\n",
       "      <td>False</td>\n",
       "      <td>False</td>\n",
       "      <td>False</td>\n",
       "      <td>True</td>\n",
       "      <td>True</td>\n",
       "      <td>True</td>\n",
       "      <td>True</td>\n",
       "      <td>...</td>\n",
       "      <td>False</td>\n",
       "      <td>True</td>\n",
       "      <td>False</td>\n",
       "      <td>False</td>\n",
       "      <td>True</td>\n",
       "      <td>False</td>\n",
       "      <td>False</td>\n",
       "      <td>False</td>\n",
       "      <td>False</td>\n",
       "      <td>False</td>\n",
       "    </tr>\n",
       "    <tr>\n",
       "      <th>...</th>\n",
       "      <td>...</td>\n",
       "      <td>...</td>\n",
       "      <td>...</td>\n",
       "      <td>...</td>\n",
       "      <td>...</td>\n",
       "      <td>...</td>\n",
       "      <td>...</td>\n",
       "      <td>...</td>\n",
       "      <td>...</td>\n",
       "      <td>...</td>\n",
       "      <td>...</td>\n",
       "      <td>...</td>\n",
       "      <td>...</td>\n",
       "      <td>...</td>\n",
       "      <td>...</td>\n",
       "      <td>...</td>\n",
       "      <td>...</td>\n",
       "      <td>...</td>\n",
       "      <td>...</td>\n",
       "      <td>...</td>\n",
       "      <td>...</td>\n",
       "    </tr>\n",
       "    <tr>\n",
       "      <th>88884</th>\n",
       "      <td>False</td>\n",
       "      <td>False</td>\n",
       "      <td>False</td>\n",
       "      <td>False</td>\n",
       "      <td>False</td>\n",
       "      <td>False</td>\n",
       "      <td>True</td>\n",
       "      <td>True</td>\n",
       "      <td>True</td>\n",
       "      <td>True</td>\n",
       "      <td>...</td>\n",
       "      <td>False</td>\n",
       "      <td>True</td>\n",
       "      <td>False</td>\n",
       "      <td>False</td>\n",
       "      <td>False</td>\n",
       "      <td>False</td>\n",
       "      <td>True</td>\n",
       "      <td>True</td>\n",
       "      <td>True</td>\n",
       "      <td>False</td>\n",
       "    </tr>\n",
       "    <tr>\n",
       "      <th>88885</th>\n",
       "      <td>False</td>\n",
       "      <td>False</td>\n",
       "      <td>False</td>\n",
       "      <td>False</td>\n",
       "      <td>False</td>\n",
       "      <td>False</td>\n",
       "      <td>True</td>\n",
       "      <td>True</td>\n",
       "      <td>True</td>\n",
       "      <td>True</td>\n",
       "      <td>...</td>\n",
       "      <td>True</td>\n",
       "      <td>True</td>\n",
       "      <td>False</td>\n",
       "      <td>False</td>\n",
       "      <td>False</td>\n",
       "      <td>False</td>\n",
       "      <td>True</td>\n",
       "      <td>True</td>\n",
       "      <td>True</td>\n",
       "      <td>True</td>\n",
       "    </tr>\n",
       "    <tr>\n",
       "      <th>88886</th>\n",
       "      <td>False</td>\n",
       "      <td>False</td>\n",
       "      <td>False</td>\n",
       "      <td>False</td>\n",
       "      <td>False</td>\n",
       "      <td>False</td>\n",
       "      <td>False</td>\n",
       "      <td>False</td>\n",
       "      <td>False</td>\n",
       "      <td>False</td>\n",
       "      <td>...</td>\n",
       "      <td>False</td>\n",
       "      <td>True</td>\n",
       "      <td>False</td>\n",
       "      <td>False</td>\n",
       "      <td>False</td>\n",
       "      <td>False</td>\n",
       "      <td>False</td>\n",
       "      <td>True</td>\n",
       "      <td>True</td>\n",
       "      <td>False</td>\n",
       "    </tr>\n",
       "    <tr>\n",
       "      <th>88887</th>\n",
       "      <td>False</td>\n",
       "      <td>False</td>\n",
       "      <td>False</td>\n",
       "      <td>False</td>\n",
       "      <td>False</td>\n",
       "      <td>False</td>\n",
       "      <td>True</td>\n",
       "      <td>True</td>\n",
       "      <td>True</td>\n",
       "      <td>True</td>\n",
       "      <td>...</td>\n",
       "      <td>False</td>\n",
       "      <td>False</td>\n",
       "      <td>False</td>\n",
       "      <td>False</td>\n",
       "      <td>False</td>\n",
       "      <td>False</td>\n",
       "      <td>True</td>\n",
       "      <td>True</td>\n",
       "      <td>True</td>\n",
       "      <td>True</td>\n",
       "    </tr>\n",
       "    <tr>\n",
       "      <th>88888</th>\n",
       "      <td>False</td>\n",
       "      <td>False</td>\n",
       "      <td>False</td>\n",
       "      <td>False</td>\n",
       "      <td>False</td>\n",
       "      <td>False</td>\n",
       "      <td>True</td>\n",
       "      <td>True</td>\n",
       "      <td>True</td>\n",
       "      <td>True</td>\n",
       "      <td>...</td>\n",
       "      <td>False</td>\n",
       "      <td>True</td>\n",
       "      <td>False</td>\n",
       "      <td>False</td>\n",
       "      <td>False</td>\n",
       "      <td>False</td>\n",
       "      <td>True</td>\n",
       "      <td>True</td>\n",
       "      <td>True</td>\n",
       "      <td>False</td>\n",
       "    </tr>\n",
       "  </tbody>\n",
       "</table>\n",
       "<p>88889 rows × 31 columns</p>\n",
       "</div>"
      ],
      "text/plain": [
       "       Event.Id  Investigation.Type  Accident.Number  Event.Date  Location  \\\n",
       "0         False               False            False       False     False   \n",
       "1         False               False            False       False     False   \n",
       "2         False               False            False       False     False   \n",
       "3         False               False            False       False     False   \n",
       "4         False               False            False       False     False   \n",
       "...         ...                 ...              ...         ...       ...   \n",
       "88884     False               False            False       False     False   \n",
       "88885     False               False            False       False     False   \n",
       "88886     False               False            False       False     False   \n",
       "88887     False               False            False       False     False   \n",
       "88888     False               False            False       False     False   \n",
       "\n",
       "       Country  Latitude  Longitude  Airport.Code  Airport.Name  ...  \\\n",
       "0        False      True       True          True          True  ...   \n",
       "1        False      True       True          True          True  ...   \n",
       "2        False     False      False          True          True  ...   \n",
       "3        False      True       True          True          True  ...   \n",
       "4        False      True       True          True          True  ...   \n",
       "...        ...       ...        ...           ...           ...  ...   \n",
       "88884    False      True       True          True          True  ...   \n",
       "88885    False      True       True          True          True  ...   \n",
       "88886    False     False      False         False         False  ...   \n",
       "88887    False      True       True          True          True  ...   \n",
       "88888    False      True       True          True          True  ...   \n",
       "\n",
       "       Purpose.of.flight  Air.carrier  Total.Fatal.Injuries  \\\n",
       "0                  False         True                 False   \n",
       "1                  False         True                 False   \n",
       "2                  False         True                 False   \n",
       "3                  False         True                 False   \n",
       "4                  False         True                 False   \n",
       "...                  ...          ...                   ...   \n",
       "88884              False         True                 False   \n",
       "88885               True         True                 False   \n",
       "88886              False         True                 False   \n",
       "88887              False        False                 False   \n",
       "88888              False         True                 False   \n",
       "\n",
       "       Total.Serious.Injuries  Total.Minor.Injuries  Total.Uninjured  \\\n",
       "0                       False                 False            False   \n",
       "1                       False                 False            False   \n",
       "2                        True                  True             True   \n",
       "3                       False                 False            False   \n",
       "4                       False                  True            False   \n",
       "...                       ...                   ...              ...   \n",
       "88884                   False                 False            False   \n",
       "88885                   False                 False            False   \n",
       "88886                   False                 False            False   \n",
       "88887                   False                 False            False   \n",
       "88888                   False                 False            False   \n",
       "\n",
       "       Weather.Condition  Broad.phase.of.flight  Report.Status  \\\n",
       "0                  False                  False          False   \n",
       "1                  False                  False          False   \n",
       "2                  False                  False          False   \n",
       "3                  False                  False          False   \n",
       "4                  False                  False          False   \n",
       "...                  ...                    ...            ...   \n",
       "88884               True                   True           True   \n",
       "88885               True                   True           True   \n",
       "88886              False                   True           True   \n",
       "88887               True                   True           True   \n",
       "88888               True                   True           True   \n",
       "\n",
       "       Publication.Date  \n",
       "0                  True  \n",
       "1                 False  \n",
       "2                 False  \n",
       "3                 False  \n",
       "4                 False  \n",
       "...                 ...  \n",
       "88884             False  \n",
       "88885              True  \n",
       "88886             False  \n",
       "88887              True  \n",
       "88888             False  \n",
       "\n",
       "[88889 rows x 31 columns]"
      ]
     },
     "execution_count": 30,
     "metadata": {},
     "output_type": "execute_result"
    }
   ],
   "source": [
    "#using .isnull() and .sum() to check the null values and sum of the null values\n",
    "df.isnull()\n",
    "#returns a bool (True if it's null and False if it's not)"
   ]
  },
  {
   "cell_type": "code",
   "execution_count": 31,
   "id": "aab3d522-ef7f-430e-aa90-ff42edcfc313",
   "metadata": {},
   "outputs": [
    {
     "data": {
      "text/plain": [
       "Event.Id                      0\n",
       "Investigation.Type            0\n",
       "Accident.Number               0\n",
       "Event.Date                    0\n",
       "Location                     52\n",
       "Country                     226\n",
       "Latitude                  54507\n",
       "Longitude                 54516\n",
       "Airport.Code              38759\n",
       "Airport.Name              36185\n",
       "Injury.Severity            1000\n",
       "Aircraft.damage            3194\n",
       "Aircraft.Category         56602\n",
       "Registration.Number        1382\n",
       "Make                         63\n",
       "Model                        92\n",
       "Amateur.Built               102\n",
       "Number.of.Engines          6084\n",
       "Engine.Type                7096\n",
       "FAR.Description           56866\n",
       "Schedule                  76307\n",
       "Purpose.of.flight          6192\n",
       "Air.carrier               72241\n",
       "Total.Fatal.Injuries      11401\n",
       "Total.Serious.Injuries    12510\n",
       "Total.Minor.Injuries      11933\n",
       "Total.Uninjured            5912\n",
       "Weather.Condition          4492\n",
       "Broad.phase.of.flight     27165\n",
       "Report.Status              6384\n",
       "Publication.Date          13771\n",
       "dtype: int64"
      ]
     },
     "execution_count": 31,
     "metadata": {},
     "output_type": "execute_result"
    }
   ],
   "source": [
    "#sum the null values\n",
    "df.isnull().sum()"
   ]
  },
  {
   "cell_type": "markdown",
   "id": "6abe55ce-b4a6-4bba-b4dc-6a4be7bb01bd",
   "metadata": {},
   "source": [
    "This helps us in knowing which columns are likely to be dropped since they contain so many null values and replacing them will affect our findings or analysis."
   ]
  },
  {
   "cell_type": "code",
   "execution_count": 33,
   "id": "6c18ab7a-c02a-4272-ad1a-2c4b6c00715c",
   "metadata": {},
   "outputs": [
    {
     "data": {
      "text/plain": [
       "0    MOOSE CREEK, ID\n",
       "1     BRIDGEPORT, CA\n",
       "2      Saltville, VA\n",
       "3         EUREKA, CA\n",
       "4         Canton, OH\n",
       "Name: Location, dtype: object"
      ]
     },
     "execution_count": 33,
     "metadata": {},
     "output_type": "execute_result"
    }
   ],
   "source": [
    "#replace the null values in least affected columns\n",
    "location_mode= df[\"Location\"].mode()[0]\n",
    "df[\"Location\"]=df[\"Location\"].fillna(location_mode)\n",
    "df[\"Location\"].head()"
   ]
  },
  {
   "cell_type": "markdown",
   "id": "8f9b5d55-f67e-4bb3-9136-2ceec4d99e07",
   "metadata": {},
   "source": [
    "Replaced all null values with the mode."
   ]
  },
  {
   "cell_type": "code",
   "execution_count": 35,
   "id": "e226cde8-1cad-4669-9c6e-646295e78c4b",
   "metadata": {},
   "outputs": [
    {
     "data": {
      "text/plain": [
       "0     Stinson\n",
       "1       Piper\n",
       "2      Cessna\n",
       "3    Rockwell\n",
       "4      Cessna\n",
       "Name: Make, dtype: object"
      ]
     },
     "execution_count": 35,
     "metadata": {},
     "output_type": "execute_result"
    }
   ],
   "source": [
    "#Do the same for all the others\n",
    "Make_mode= df[\"Make\"].mode()[0]\n",
    "df[\"Make\"]=df[\"Make\"].fillna(Make_mode)\n",
    "df[\"Make\"].head()"
   ]
  },
  {
   "cell_type": "code",
   "execution_count": 36,
   "id": "bdda6bb5-7883-4901-b006-eee977487731",
   "metadata": {},
   "outputs": [
    {
     "data": {
      "text/plain": [
       "0       108-3\n",
       "1    PA24-180\n",
       "2        172M\n",
       "3         112\n",
       "4         501\n",
       "Name: Model, dtype: object"
      ]
     },
     "execution_count": 36,
     "metadata": {},
     "output_type": "execute_result"
    }
   ],
   "source": [
    "#Model of the aircraft\n",
    "Model_mode= df[\"Model\"].mode()[0]\n",
    "df[\"Model\"]=df[\"Model\"].fillna(Model_mode)\n",
    "df[\"Model\"].head()"
   ]
  },
  {
   "cell_type": "code",
   "execution_count": 37,
   "id": "5e47b518-5e66-40e4-bd5f-83ec5fa33cf0",
   "metadata": {},
   "outputs": [
    {
     "data": {
      "text/plain": [
       "0    Fatal(2)\n",
       "1    Fatal(4)\n",
       "2    Fatal(3)\n",
       "3    Fatal(2)\n",
       "4    Fatal(1)\n",
       "Name: Injury.Severity, dtype: object"
      ]
     },
     "execution_count": 37,
     "metadata": {},
     "output_type": "execute_result"
    }
   ],
   "source": [
    "#Injury Severity\n",
    "Injury_Severity= df[\"Injury.Severity\"].mode()[0]\n",
    "df[\"Injury.Severity\"]=df[\"Injury.Severity\"].fillna(Injury_Severity)\n",
    "df[\"Injury.Severity\"].head()"
   ]
  },
  {
   "cell_type": "code",
   "execution_count": 38,
   "id": "e51a3ae6-33a6-47d8-93b0-ee9b83b189f3",
   "metadata": {},
   "outputs": [
    {
     "data": {
      "text/plain": [
       "0    Destroyed\n",
       "1    Destroyed\n",
       "2    Destroyed\n",
       "3    Destroyed\n",
       "4    Destroyed\n",
       "Name: Aircraft.damage, dtype: object"
      ]
     },
     "execution_count": 38,
     "metadata": {},
     "output_type": "execute_result"
    }
   ],
   "source": [
    "#For aircraft damage\n",
    "Aircraft_damage = df[\"Aircraft.damage\"].mode()[0]\n",
    "df[\"Aircraft.damage\"]=df[\"Aircraft.damage\"].fillna(Aircraft_damage)\n",
    "df[\"Aircraft.damage\"].head()"
   ]
  },
  {
   "cell_type": "code",
   "execution_count": 39,
   "id": "e38cc7ca-1d74-472b-b7cd-5f09142663ca",
   "metadata": {},
   "outputs": [
    {
     "data": {
      "text/plain": [
       "0    No\n",
       "1    No\n",
       "2    No\n",
       "3    No\n",
       "4    No\n",
       "Name: Amateur.Built, dtype: object"
      ]
     },
     "execution_count": 39,
     "metadata": {},
     "output_type": "execute_result"
    }
   ],
   "source": [
    "#Change for the amature built as well\n",
    "Amateur_built= df['Amateur.Built'].mode()[0]\n",
    "df['Amateur.Built']= df['Amateur.Built'].fillna(Amateur_built)\n",
    "df['Amateur.Built'].head()"
   ]
  },
  {
   "cell_type": "code",
   "execution_count": 40,
   "id": "2cac4672-5e09-4d17-ba8d-6ac9ff7b8b6f",
   "metadata": {},
   "outputs": [],
   "source": [
    "#define fnct to standardize the injury severity column\n",
    "def standardize_severity (word):\n",
    "    if word.startswith(\"Fatal\"):\n",
    "     return \"Fatal\"\n",
    "    else:\n",
    "     return word"
   ]
  },
  {
   "cell_type": "code",
   "execution_count": 41,
   "id": "14f997dc-44df-45f3-a6ee-3be0b9031043",
   "metadata": {},
   "outputs": [],
   "source": [
    "df[\"Injury.Severity\"]=df[\"Injury.Severity\"].apply(standardize_severity)"
   ]
  },
  {
   "cell_type": "code",
   "execution_count": 42,
   "id": "9e71d681-25db-4149-8593-2d7b97646870",
   "metadata": {},
   "outputs": [],
   "source": [
    "df[\"Injury.Severity\"].replace(\"Unavailable\",np.nan, inplace=True)#replace Unknown with nan\n",
    "severity= df[\"Injury.Severity\"].mode()[0]\n",
    "df[\"Injury.Severity\"]= df[\"Injury.Severity\"].fillna(severity)"
   ]
  },
  {
   "cell_type": "code",
   "execution_count": 43,
   "id": "d452b7a8-5a2e-459b-bc62-d40497bbd3fb",
   "metadata": {},
   "outputs": [
    {
     "data": {
      "text/plain": [
       "array(['Fatal', 'Non-Fatal', 'Incident', 'Minor', 'Serious'], dtype=object)"
      ]
     },
     "execution_count": 43,
     "metadata": {},
     "output_type": "execute_result"
    }
   ],
   "source": [
    "df[\"Injury.Severity\"].unique()"
   ]
  },
  {
   "cell_type": "code",
   "execution_count": 44,
   "id": "65366ad4-0a9e-4466-9006-051ada67ac08",
   "metadata": {},
   "outputs": [
    {
     "data": {
      "text/plain": [
       "array(['UNK', 'IMC', 'VMC', nan, 'Unk'], dtype=object)"
      ]
     },
     "execution_count": 44,
     "metadata": {},
     "output_type": "execute_result"
    }
   ],
   "source": [
    "df['Weather.Condition'].unique()"
   ]
  },
  {
   "cell_type": "markdown",
   "id": "9befaa27-40cf-4a84-9ea5-f066700feb54",
   "metadata": {},
   "source": [
    "Weather Condition has null values and placeholder values(UNK,Unk) that need to be replaced. First we're going to convert them to null values\n",
    "then replace them with the \"mode\" weather condition as we don't want to drop any data."
   ]
  },
  {
   "cell_type": "code",
   "execution_count": 46,
   "id": "751029b9-5d55-485f-9c37-f6d194c227d3",
   "metadata": {},
   "outputs": [],
   "source": [
    "#Convert all the strings to uppercase\n",
    "df[\"Weather.Condition\"] = df[\"Weather.Condition\"].str.upper()"
   ]
  },
  {
   "cell_type": "code",
   "execution_count": 47,
   "id": "63e42bce-0d35-400c-8de6-003e19bf1313",
   "metadata": {},
   "outputs": [],
   "source": [
    "#convert the unknown weather conditions to null \n",
    "df[\"Weather.Condition\"].replace(\"UNK\", np.nan, inplace=True)"
   ]
  },
  {
   "cell_type": "code",
   "execution_count": 48,
   "id": "9fc26fc3-03bf-474f-9d8d-30980e433ce4",
   "metadata": {},
   "outputs": [
    {
     "data": {
      "text/plain": [
       "array([nan, 'IMC', 'VMC'], dtype=object)"
      ]
     },
     "execution_count": 48,
     "metadata": {},
     "output_type": "execute_result"
    }
   ],
   "source": [
    "#The unique weather conditions are now VMC and IMC; with NaN that have been converted.\n",
    "df[\"Weather.Condition\"].unique()"
   ]
  },
  {
   "cell_type": "code",
   "execution_count": 49,
   "id": "45787d8a-db22-4dc6-83ba-2ad6253e8635",
   "metadata": {},
   "outputs": [],
   "source": [
    "#Replace all the nulls with the mode\n",
    "Weather_mode= df[\"Weather.Condition\"].mode()[0]\n",
    "df[\"Weather.Condition\"]= df[\"Weather.Condition\"].fillna(Weather_mode)"
   ]
  },
  {
   "cell_type": "code",
   "execution_count": 50,
   "id": "a6ea8a6b-b9d0-49ed-b246-ecff0804e2d0",
   "metadata": {},
   "outputs": [
    {
     "data": {
      "text/plain": [
       "array(['VMC', 'IMC'], dtype=object)"
      ]
     },
     "execution_count": 50,
     "metadata": {},
     "output_type": "execute_result"
    }
   ],
   "source": [
    "df['Weather.Condition'].unique()"
   ]
  },
  {
   "cell_type": "code",
   "execution_count": 51,
   "id": "121d348b-d603-4482-9c72-e78f946b0cca",
   "metadata": {},
   "outputs": [
    {
     "data": {
      "text/plain": [
       "array(['Personal', nan, 'Business', 'Instructional', 'Unknown', 'Ferry',\n",
       "       'Executive/corporate', 'Aerial Observation', 'Aerial Application',\n",
       "       'Public Aircraft', 'Skydiving', 'Other Work Use', 'Positioning',\n",
       "       'Flight Test', 'Air Race/show', 'Air Drop',\n",
       "       'Public Aircraft - Federal', 'Glider Tow',\n",
       "       'Public Aircraft - Local', 'External Load',\n",
       "       'Public Aircraft - State', 'Banner Tow', 'Firefighting',\n",
       "       'Air Race show', 'PUBS', 'ASHO', 'PUBL'], dtype=object)"
      ]
     },
     "execution_count": 51,
     "metadata": {},
     "output_type": "execute_result"
    }
   ],
   "source": [
    "df['Purpose.of.flight'].unique()"
   ]
  },
  {
   "cell_type": "code",
   "execution_count": 52,
   "id": "7b142ea6-3f84-4ac9-890f-1fb0002e73ed",
   "metadata": {},
   "outputs": [
    {
     "data": {
      "text/plain": [
       "0    Personal\n",
       "1    Personal\n",
       "2    Personal\n",
       "3    Personal\n",
       "4    Personal\n",
       "Name: Purpose.of.flight, dtype: object"
      ]
     },
     "execution_count": 52,
     "metadata": {},
     "output_type": "execute_result"
    }
   ],
   "source": [
    "df[\"Purpose.of.flight\"].replace(\"Unknown\",np.nan, inplace=True)#replace Unknown with nan\n",
    "Purpose_flight= df[\"Purpose.of.flight\"].mode()[0]\n",
    "df[\"Purpose.of.flight\"]= df[\"Purpose.of.flight\"].fillna(Purpose_flight)#replace all nulls with the mode \n",
    "df[\"Purpose.of.flight\"].head()"
   ]
  },
  {
   "cell_type": "code",
   "execution_count": 53,
   "id": "2fd6fedb-f7b7-40c3-b66b-74f31fc92688",
   "metadata": {},
   "outputs": [
    {
     "data": {
      "text/plain": [
       "array([ 1., nan,  2.,  0.,  3.,  4.,  8.,  6.])"
      ]
     },
     "execution_count": 53,
     "metadata": {},
     "output_type": "execute_result"
    }
   ],
   "source": [
    "df[\"Number.of.Engines\"] = pd.to_numeric(df[\"Number.of.Engines\"], errors=\"coerce\")\n",
    "df[\"Number.of.Engines\"].unique()"
   ]
  },
  {
   "cell_type": "code",
   "execution_count": 54,
   "id": "b388b9fc-5f53-4c52-90e2-6e45e9fdf35f",
   "metadata": {},
   "outputs": [
    {
     "data": {
      "text/plain": [
       "count     88889\n",
       "unique        2\n",
       "top       False\n",
       "freq      82805\n",
       "Name: Number.of.Engines, dtype: object"
      ]
     },
     "execution_count": 54,
     "metadata": {},
     "output_type": "execute_result"
    }
   ],
   "source": [
    "df[\"Number.of.Engines\"].isnull().describe()"
   ]
  },
  {
   "cell_type": "code",
   "execution_count": 55,
   "id": "f2d1e9e4-3799-4f84-9b6f-6f7562f65898",
   "metadata": {},
   "outputs": [],
   "source": [
    "No_of_engines= df[\"Number.of.Engines\"].mode()[0]\n",
    "df[\"Number.of.Engines\"] =df[\"Number.of.Engines\"].fillna(No_of_engines)"
   ]
  },
  {
   "cell_type": "code",
   "execution_count": 56,
   "id": "0f52b682-d972-4078-a87f-22e9bb936c80",
   "metadata": {},
   "outputs": [
    {
     "data": {
      "text/plain": [
       "count     88889\n",
       "unique        2\n",
       "top       False\n",
       "freq      81793\n",
       "Name: Engine.Type, dtype: object"
      ]
     },
     "execution_count": 56,
     "metadata": {},
     "output_type": "execute_result"
    }
   ],
   "source": [
    "df[\"Engine.Type\"].isnull().describe()#get the description of the nulls and non-null values with the frequency of the most present"
   ]
  },
  {
   "cell_type": "code",
   "execution_count": 57,
   "id": "59d52a81-7ca0-4d00-8876-5e50f8a14ccd",
   "metadata": {},
   "outputs": [
    {
     "data": {
      "text/plain": [
       "array(['Reciprocating', nan, 'Turbo Fan', 'Turbo Shaft', 'Unknown',\n",
       "       'Turbo Prop', 'Turbo Jet', 'Electric', 'Hybrid Rocket',\n",
       "       'Geared Turbofan', 'LR', 'NONE', 'UNK'], dtype=object)"
      ]
     },
     "execution_count": 57,
     "metadata": {},
     "output_type": "execute_result"
    }
   ],
   "source": [
    "df[\"Engine.Type\"].unique()#check for unkwons or placeholder values"
   ]
  },
  {
   "cell_type": "code",
   "execution_count": 58,
   "id": "414333b0-44c3-4160-836c-10d1b95ca299",
   "metadata": {},
   "outputs": [],
   "source": [
    "df[\"Engine.Type\"].replace([\"UNK\", \"NONE\"], np.nan, inplace=True)#replace placeholder values with null values\n",
    "type_engine= df[\"Engine.Type\"].mode()[0]\n",
    "df[\"Engine.Type\"] =df[\"Engine.Type\"].fillna(type_engine)#replace the nulls with the mode engine type"
   ]
  },
  {
   "cell_type": "code",
   "execution_count": 59,
   "id": "ebb3b05d-83f7-4590-b0b3-443e5c4b2278",
   "metadata": {},
   "outputs": [
    {
     "data": {
      "text/plain": [
       "array([  2.,   4.,   3.,   1.,  nan,   0.,   8.,  78.,   7.,   6.,   5.,\n",
       "       153.,  12.,  14.,  23.,  10.,  11.,   9.,  17.,  13.,  29.,  70.,\n",
       "       135.,  31., 256.,  25.,  82., 156.,  28.,  18.,  43.,  15., 270.,\n",
       "       144., 174., 111., 131.,  20.,  73.,  27.,  34.,  87.,  30.,  16.,\n",
       "        47.,  56.,  37., 132.,  68.,  54.,  52.,  65.,  72., 160., 189.,\n",
       "       123.,  33., 110., 230.,  97., 349., 125.,  35., 228.,  75., 104.,\n",
       "       229.,  80., 217., 169.,  88.,  19.,  60., 113., 143.,  83.,  24.,\n",
       "        44.,  64.,  92., 118., 265.,  26., 138., 206.,  71.,  21.,  46.,\n",
       "       102., 115., 141.,  55., 121.,  45., 145., 117., 107., 124.,  49.,\n",
       "       154.,  96., 114., 199.,  89.,  57., 152.,  90., 103., 158., 157.,\n",
       "        42.,  77., 127.,  50., 239., 295.,  58., 162., 150., 224.,  62.,\n",
       "        66., 112., 188.,  41., 176.])"
      ]
     },
     "execution_count": 59,
     "metadata": {},
     "output_type": "execute_result"
    }
   ],
   "source": [
    "df[\"Total.Fatal.Injuries\"] = pd.to_numeric(df[\"Total.Fatal.Injuries\"], errors=\"coerce\")\n",
    "df[\"Total.Fatal.Injuries\"].unique()"
   ]
  },
  {
   "cell_type": "code",
   "execution_count": 60,
   "id": "5009a62b-a5c6-4783-87ee-3457109f42d2",
   "metadata": {},
   "outputs": [],
   "source": [
    "#replacing all the nulls with the mode using the lambda function\n",
    "df[\"Total.Fatal.Injuries\"] = df[\"Total.Fatal.Injuries\"].apply(lambda x: df[\"Total.Fatal.Injuries\"].mode()[0] if pd.isna(x) else x)"
   ]
  },
  {
   "cell_type": "code",
   "execution_count": 61,
   "id": "922586ee-c0d2-4b3f-a3f8-e17f16e34fd5",
   "metadata": {},
   "outputs": [
    {
     "data": {
      "text/plain": [
       "array([  0.,  nan,   2.,   1.,   6.,   4.,   5.,  10.,   3.,   8.,   9.,\n",
       "         7.,  15.,  17.,  28.,  26.,  47.,  14.,  81.,  13., 106.,  60.,\n",
       "        16.,  21.,  50.,  44.,  18.,  12.,  45.,  39.,  43.,  11.,  25.,\n",
       "        59.,  23.,  55.,  63.,  88.,  41.,  34.,  53.,  33.,  67.,  35.,\n",
       "        20., 137.,  19.,  27., 125., 161.,  22.])"
      ]
     },
     "execution_count": 61,
     "metadata": {},
     "output_type": "execute_result"
    }
   ],
   "source": [
    "df[\"Total.Serious.Injuries\"] = pd.to_numeric(df[\"Total.Serious.Injuries\"], errors=\"coerce\")#convert no numbers\n",
    "df[\"Total.Serious.Injuries\"].unique()"
   ]
  },
  {
   "cell_type": "code",
   "execution_count": 62,
   "id": "8de31e82-53da-44ad-a6ec-1da800f6743e",
   "metadata": {},
   "outputs": [],
   "source": [
    "#replacing all the nulls with the mode using the lambda fnct\n",
    "df[\"Total.Serious.Injuries\"] = df[\"Total.Serious.Injuries\"].apply(lambda x: df[\"Total.Serious.Injuries\"].mode()[0] if pd.isna(x) else x)"
   ]
  },
  {
   "cell_type": "code",
   "execution_count": 63,
   "id": "1f7094f8-bac7-4afa-ac08-104ea360c9a4",
   "metadata": {},
   "outputs": [
    {
     "data": {
      "text/plain": [
       "array([  0.,  nan,   1.,   3.,   2.,   4.,  24.,   6.,   5.,  25.,  17.,\n",
       "        19.,  33.,  14.,   8.,  13.,  15.,   7.,   9.,  16.,  20.,  11.,\n",
       "        12.,  10.,  38.,  42.,  29.,  62.,  28.,  31.,  39.,  32.,  18.,\n",
       "        27.,  57.,  50.,  23., 125.,  45.,  26.,  36.,  69.,  21.,  96.,\n",
       "        30.,  22.,  58., 171.,  65.,  71., 200.,  68.,  47., 380.,  35.,\n",
       "        43.,  84.,  40.])"
      ]
     },
     "execution_count": 63,
     "metadata": {},
     "output_type": "execute_result"
    }
   ],
   "source": [
    "df[\"Total.Minor.Injuries\"] = pd.to_numeric(df[\"Total.Minor.Injuries\"], errors=\"coerce\")\n",
    "df[\"Total.Minor.Injuries\"].unique()"
   ]
  },
  {
   "cell_type": "code",
   "execution_count": 64,
   "id": "bba986db-58d5-4cad-a8f7-32a478dda723",
   "metadata": {},
   "outputs": [],
   "source": [
    "#replacing all the nulls with the mode using the lambda function\n",
    "df[\"Total.Minor.Injuries\"] = df[\"Total.Minor.Injuries\"].apply(lambda x: df[\"Total.Minor.Injuries\"].mode()[0] if pd.isna(x) else x)"
   ]
  },
  {
   "cell_type": "code",
   "execution_count": 65,
   "id": "cf5306fe-45c2-4819-82a4-80500e9af7cc",
   "metadata": {},
   "outputs": [
    {
     "data": {
      "text/plain": [
       "array([  0.,  nan,  44.,   2.,   1.,   3.,   6.,   4., 149.,  12., 182.,\n",
       "       154.,   5.,  10.,   7., 119.,  36.,  51.,  16.,  83.,   9.,  68.,\n",
       "        30.,  20.,  18.,   8., 108.,  11., 152.,  21.,  48.,  56., 113.,\n",
       "       129., 109.,  29.,  13.,  84.,  74., 142., 102., 393., 128., 112.,\n",
       "        17.,  65.,  67., 136.,  23., 116.,  22.,  57.,  58.,  73., 203.,\n",
       "        31., 201., 412., 159.,  39., 186., 588.,  82.,  95., 146., 190.,\n",
       "       245., 172.,  52.,  25.,  59., 131., 151., 180., 150.,  86.,  19.,\n",
       "       133., 240.,  15., 145., 125., 440.,  77., 122., 205., 289., 110.,\n",
       "        79.,  66.,  87.,  78.,  49., 104., 250.,  33., 138., 100.,  53.,\n",
       "       158., 127., 160., 260.,  47.,  38., 165., 495.,  81.,  41.,  14.,\n",
       "        72.,  98., 263., 188., 239.,  27., 105., 111., 212., 157.,  46.,\n",
       "       121.,  75.,  71.,  45.,  91.,  99.,  85.,  96.,  50.,  93., 276.,\n",
       "       365., 371., 200., 103., 189.,  37., 107.,  61.,  26., 271., 130.,\n",
       "        89., 439., 132., 219.,  43., 238., 195., 118., 175.,  32., 507.,\n",
       "       421.,  90., 225., 269., 169., 236., 224., 134., 106., 331., 140.,\n",
       "        94., 192., 161., 270.,  69., 436., 213., 233., 115.,  42., 167.,\n",
       "       137., 114., 148., 222.,  92., 375.,  76., 171., 173., 246., 234.,\n",
       "       123., 220., 202., 408., 279., 363., 135., 528., 334., 178., 147.,\n",
       "       126.,  62.,  70.,  97., 228., 226.,  64., 290., 206., 297., 349.,\n",
       "       208., 144.,  54.,  24., 258., 304., 274., 286.,  55., 199., 221.,\n",
       "        80., 272., 211., 262., 441., 194., 309., 185., 261., 241., 383.,\n",
       "       177., 259., 244., 254., 156.,  40.,  34., 247., 176.,  63.,  28.,\n",
       "       218., 282., 320., 204., 124., 215., 298., 120., 280., 179., 315.,\n",
       "       461., 153.,  60., 308.,  88., 361., 277., 191., 235., 187., 101.,\n",
       "       162.,  35., 197., 193., 164., 370., 387., 163., 139., 267., 357.,\n",
       "       339., 288., 231., 300., 255., 306., 443., 385., 248., 459., 141.,\n",
       "       414., 229., 166., 209., 184., 168., 170., 198., 299., 573., 223.,\n",
       "       265., 322., 196., 117., 253., 399., 360., 252., 217., 155., 183.,\n",
       "       227., 249., 329., 340., 699., 325., 287., 143., 243., 230., 386.,\n",
       "       181., 257., 283., 404., 319., 450., 356., 216., 174., 558., 214.,\n",
       "       448., 324., 338., 273., 232., 401., 312., 368., 501., 237., 307.,\n",
       "       296., 291., 403., 314., 285., 311., 293., 352., 332., 384., 275.,\n",
       "       210., 268., 326., 454., 278., 576., 380., 394., 362., 397., 359.,\n",
       "       264., 333., 367., 302., 348., 351., 358., 295., 321., 521., 301.,\n",
       "       294., 378., 207., 406., 251., 455.])"
      ]
     },
     "execution_count": 65,
     "metadata": {},
     "output_type": "execute_result"
    }
   ],
   "source": [
    "df[\"Total.Uninjured\"] = pd.to_numeric(df[\"Total.Uninjured\"], errors=\"coerce\")#to numeric value\n",
    "df[\"Total.Uninjured\"].unique()"
   ]
  },
  {
   "cell_type": "code",
   "execution_count": 66,
   "id": "49074b70-a346-4928-9b44-ce4af40a4360",
   "metadata": {},
   "outputs": [],
   "source": [
    "#replacing all the nulls with the mode using the lambda fnct\n",
    "df[\"Total.Uninjured\"] = df[\"Total.Uninjured\"].apply(lambda x: df[\"Total.Uninjured\"].mode()[0] if pd.isna(x) else x)"
   ]
  },
  {
   "cell_type": "code",
   "execution_count": 67,
   "id": "e45835df-07b3-4310-a4bf-51542a701bd9",
   "metadata": {},
   "outputs": [
    {
     "data": {
      "text/plain": [
       "count     88889\n",
       "unique        2\n",
       "top       False\n",
       "freq      87507\n",
       "Name: Registration.Number, dtype: object"
      ]
     },
     "execution_count": 67,
     "metadata": {},
     "output_type": "execute_result"
    }
   ],
   "source": [
    "df[\"Registration.Number\"].isna().describe()#87507 non-null values"
   ]
  },
  {
   "cell_type": "code",
   "execution_count": 68,
   "id": "3c937e78-0c56-41b9-b71d-ddfc0e788a40",
   "metadata": {},
   "outputs": [
    {
     "data": {
      "text/plain": [
       "0    NC6404\n",
       "1    N5069P\n",
       "2    N5142R\n",
       "3    N1168J\n",
       "4     N15NY\n",
       "Name: Registration.Number, dtype: object"
      ]
     },
     "execution_count": 68,
     "metadata": {},
     "output_type": "execute_result"
    }
   ],
   "source": [
    "#used the .apply() method with the lambda function\n",
    "df[\"Registration.Number\"]= df[\"Registration.Number\"].apply(lambda x: df[\"Registration.Number\"].mode()[0] if pd.isna(x) else x)\n",
    "df[\"Registration.Number\"].head()"
   ]
  },
  {
   "cell_type": "code",
   "execution_count": 69,
   "id": "145cc0d3-3878-4d6b-a789-5a717b5957b5",
   "metadata": {
    "scrolled": true
   },
   "outputs": [
    {
     "data": {
      "text/plain": [
       "array(['Cruise', 'Unknown', 'Approach', 'Climb', 'Takeoff', 'Landing',\n",
       "       'Taxi', 'Descent', 'Maneuvering', 'Standing', 'Go-around', 'Other',\n",
       "       nan], dtype=object)"
      ]
     },
     "execution_count": 69,
     "metadata": {},
     "output_type": "execute_result"
    }
   ],
   "source": [
    "df[\"Broad.phase.of.flight\"].unique()"
   ]
  },
  {
   "cell_type": "code",
   "execution_count": 70,
   "id": "cacd5a65-0d85-4a7b-a2b4-b0cab09658ad",
   "metadata": {},
   "outputs": [
    {
     "data": {
      "text/plain": [
       "array(['Cruise', 'Landing', 'Approach', 'Climb', 'Takeoff', 'Taxi',\n",
       "       'Descent', 'Maneuvering', 'Standing', 'Go-around'], dtype=object)"
      ]
     },
     "execution_count": 70,
     "metadata": {},
     "output_type": "execute_result"
    }
   ],
   "source": [
    "df[\"Broad.phase.of.flight\"].replace([\"Unknown\",\"Other\"],np.nan, inplace=True)#converting placeholder values to null values for easier replacement\n",
    "#replacing all the nulls with the mode using the lambda function\n",
    "Flight_phase= df[\"Broad.phase.of.flight\"].mode()[0]\n",
    "df[\"Broad.phase.of.flight\"] = df[\"Broad.phase.of.flight\"].fillna(Flight_phase)#replace the nulls with the mode phase\n",
    "df[\"Broad.phase.of.flight\"].unique()"
   ]
  },
  {
   "cell_type": "code",
   "execution_count": 71,
   "id": "ea8a56e7-a3e4-4bbc-a1a4-14a0aad587b7",
   "metadata": {},
   "outputs": [
    {
     "data": {
      "text/plain": [
       "array([nan, 'N58', 'JAX', ..., 'SKMD', 'OMAA', 'EIKH'], dtype=object)"
      ]
     },
     "execution_count": 71,
     "metadata": {},
     "output_type": "execute_result"
    }
   ],
   "source": [
    "df[\"Airport.Code\"].unique()"
   ]
  },
  {
   "cell_type": "code",
   "execution_count": 72,
   "id": "edbfed82-abf9-4d41-81a9-460aa90ab103",
   "metadata": {},
   "outputs": [
    {
     "data": {
      "text/plain": [
       "Airport.Code\n",
       "Missing    40247\n",
       "PVT          485\n",
       "APA          160\n",
       "ORD          149\n",
       "MRI          137\n",
       "Name: count, dtype: int64"
      ]
     },
     "execution_count": 72,
     "metadata": {},
     "output_type": "execute_result"
    }
   ],
   "source": [
    "df[\"Airport.Code\"].replace([np.nan, \"NONE\"], \"Missing\", inplace=True)#replace the nulls and NONE with a string \"missing\"\n",
    "df[\"Airport.Code\"].value_counts().head()"
   ]
  },
  {
   "cell_type": "code",
   "execution_count": 73,
   "id": "f27f288c-ca97-43c7-b5ff-a91d7b1914b7",
   "metadata": {},
   "outputs": [
    {
     "data": {
      "text/plain": [
       "Airport.Name\n",
       "Private                           240\n",
       "PRIVATE                           224\n",
       "Private Airstrip                  153\n",
       "NONE                              146\n",
       "PRIVATE STRIP                     111\n",
       "                                 ... \n",
       "STEHEKIN                            1\n",
       "OTTAWA MUNICIPAL                    1\n",
       "DWIGHT AIRPORT                      1\n",
       "PHOENIX DEER VALLEY MUNI            1\n",
       "WICHITA DWIGHT D EISENHOWER NT      1\n",
       "Name: count, Length: 24870, dtype: int64"
      ]
     },
     "execution_count": 73,
     "metadata": {},
     "output_type": "execute_result"
    }
   ],
   "source": [
    "df[\"Airport.Name\"].value_counts()"
   ]
  },
  {
   "cell_type": "code",
   "execution_count": 74,
   "id": "17044e0b-0b46-480f-9818-72748d448300",
   "metadata": {},
   "outputs": [
    {
     "data": {
      "text/plain": [
       "Airport.Name\n",
       "Missing             36331\n",
       "Private               240\n",
       "PRIVATE               224\n",
       "Private Airstrip      153\n",
       "PRIVATE STRIP         111\n",
       "Name: count, dtype: int64"
      ]
     },
     "execution_count": 74,
     "metadata": {},
     "output_type": "execute_result"
    }
   ],
   "source": [
    "df[\"Airport.Name\"].replace([np.nan, \"NONE\"], \"Missing\", inplace=True)#replace the name with missing cause the numbers are too\n",
    "#high to change(36331).If we replace they're going to have a huge impact on the data, so I choose to replace with a string.\n",
    "df[\"Airport.Name\"].value_counts().head()"
   ]
  },
  {
   "cell_type": "code",
   "execution_count": 75,
   "id": "7aa612fc-53f1-4a69-ae6a-76e09b750fbf",
   "metadata": {},
   "outputs": [
    {
     "data": {
      "text/plain": [
       "array([nan, '19-09-1996', '26-02-2007', ..., '22-12-2022', '23-12-2022',\n",
       "       '29-12-2022'], dtype=object)"
      ]
     },
     "execution_count": 75,
     "metadata": {},
     "output_type": "execute_result"
    }
   ],
   "source": [
    "df[\"Publication.Date\"].unique()"
   ]
  },
  {
   "cell_type": "code",
   "execution_count": 76,
   "id": "df5b8ef7-5af6-4425-b1d2-76f2d218472c",
   "metadata": {},
   "outputs": [],
   "source": [
    "df[\"Publication.Date\"].replace(np.nan, \"Missing\", inplace=True)#replace the nulls with \"missing\".\n",
    "pub_date= df[\"Publication.Date\"].mode()[0]\n",
    "df[\"Publication.Date\"].replace(\"Missing\", pub_date, inplace = True)"
   ]
  },
  {
   "cell_type": "code",
   "execution_count": 77,
   "id": "b9fce565-f92e-42cb-9164-07fff325539b",
   "metadata": {},
   "outputs": [],
   "source": [
    "df[\"Total_severity\"]=df[\"Total.Fatal.Injuries\"]+ df[\"Total.Serious.Injuries\"]+df[\"Total.Minor.Injuries\"]#sum the casualties into another column"
   ]
  },
  {
   "cell_type": "code",
   "execution_count": 78,
   "id": "0586849e-15ea-43aa-9ccd-dfec9ee98615",
   "metadata": {},
   "outputs": [
    {
     "data": {
      "text/plain": [
       "array(['United States', 'GULF OF MEXICO', 'Puerto Rico', 'ATLANTIC OCEAN',\n",
       "       'HIGH ISLAND', 'Bahamas', 'MISSING', 'Pakistan', 'Angola',\n",
       "       'Germany', 'Korea, Republic Of', 'Martinique', 'American Samoa',\n",
       "       'PACIFIC OCEAN', 'Canada', 'Bolivia', 'Mexico', 'Dominica',\n",
       "       'Netherlands Antilles', 'Iceland', 'Greece', 'Guam', 'Australia',\n",
       "       'CARIBBEAN SEA', 'West Indies', 'Japan', 'Philippines',\n",
       "       'Venezuela', 'Bermuda', 'San Juan Islands', 'Colombia',\n",
       "       'El Salvador', 'United Kingdom', 'British Virgin Islands',\n",
       "       'Netherlands', 'Costa Rica', 'Mozambique', 'Jamaica', 'Panama',\n",
       "       'Guyana', 'Norway', 'Hong Kong', 'Portugal', 'Malaysia',\n",
       "       'Turks And Caicos Islands', 'Northern Mariana Islands',\n",
       "       'Dominican Republic', 'Suriname', 'Honduras', 'Congo', 'Belize',\n",
       "       'Guatemala', 'Anguilla', 'France', 'St Vincent And The Grenadines',\n",
       "       'Haiti', 'Montserrat', 'Papua New Guinea', 'Cayman Islands',\n",
       "       'Sweden', 'Taiwan', 'Senegal', 'Barbados', 'BLOCK 651A', 'Brazil',\n",
       "       'Mauritius', 'Argentina', 'Kenya', 'Ecuador', 'Aruba',\n",
       "       'Saudi Arabia', 'Cuba', 'Italy', 'French Guiana', 'Denmark',\n",
       "       'Sudan', 'Spain', 'Federated States Of Micronesia', 'St Lucia',\n",
       "       'Switzerland', 'Central African Republic', 'Algeria', 'Turkey',\n",
       "       'Nicaragua', 'Marshall Islands', 'Trinidad And Tobago', 'Poland',\n",
       "       'Belarus', 'Austria', 'Malta', 'Cameroon', 'Solomon Islands',\n",
       "       'Zambia', 'Peru', 'Croatia', 'Fiji', 'South Africa', 'India',\n",
       "       'Ethiopia', 'Ireland', 'Chile', 'Antigua And Barbuda', 'Uganda',\n",
       "       'China', 'Cambodia', 'Paraguay', 'Thailand', 'Belgium', 'Gambia',\n",
       "       'Uruguay', 'Tanzania', 'Mali', 'Indonesia', 'Bahrain',\n",
       "       'Kazakhstan', 'Egypt', 'Russia', 'Cyprus', \"Cote D'ivoire\",\n",
       "       'Nigeria', 'Greenland', 'Vietnam', 'New Zealand', 'Singapore',\n",
       "       'Ghana', 'Gabon', 'Nepal', 'Slovakia', 'Finland', 'Liberia',\n",
       "       'Romania', 'Maldives', 'Antarctica', 'Zimbabwe', 'Botswana',\n",
       "       'Isle of Man', 'Latvia', 'Niger', 'French Polynesia', 'Guadeloupe',\n",
       "       'Ivory Coast', 'Tunisia', 'Eritrea', 'Gibraltar', 'Namibia',\n",
       "       'Czech Republic', 'Benin', 'Bosnia And Herzegovina', 'Israel',\n",
       "       'Estonia', 'St Kitts And Nevis', 'Sierra Leone', 'Corsica',\n",
       "       'Scotland', 'Reunion', 'United Arab Emirates', 'Afghanistan',\n",
       "       'Ukraine', 'Hungary', 'Bangladesh', 'Morocco', 'Iraq', 'Jordan',\n",
       "       'Qatar', 'Madagascar', 'Malawi', 'Unknown', 'Central Africa',\n",
       "       'South Sudan', 'Saint Barthelemy', 'Micronesia', 'South Korea',\n",
       "       'Kyrgyzstan', 'Turks And Caicos', 'Eswatini', 'Tokelau',\n",
       "       'Sint Maarten', 'Macao', 'Seychelles', 'Rwanda', 'Palau',\n",
       "       'Luxembourg', 'Lebanon', 'Bosnia and Herzegovina', 'Libya',\n",
       "       'Guinea', 'Saint Vincent and the Grenadines', 'UN', 'Iran',\n",
       "       'Lithuania', 'Malampa', 'Antigua and Barbuda', 'AY', 'Chad',\n",
       "       'Cayenne', 'New Caledonia', 'Yemen', 'Slovenia', 'Nauru', 'Niue',\n",
       "       'Bulgaria', 'Republic of North Macedonia', 'Virgin Islands',\n",
       "       'Somalia', 'Pacific Ocean', 'Obyan', 'Mauritania', 'Albania',\n",
       "       'Wolseley', 'Wallis and Futuna', 'Saint Pierre and Miquelon',\n",
       "       'Georgia', \"Côte d'Ivoire\", 'South Korean', 'Serbia', 'MU',\n",
       "       'Guernsey', 'Great Britain', 'Turks and Caicos Islands'],\n",
       "      dtype=object)"
      ]
     },
     "execution_count": 78,
     "metadata": {},
     "output_type": "execute_result"
    }
   ],
   "source": [
    "df[\"Country\"] = df[\"Country\"].apply(lambda x: df[\"Country\"].mode()[0] if pd.isna(x) else x)#Replacing the missing countries with the mode country.\n",
    "df[\"Country\"].unique()"
   ]
  },
  {
   "cell_type": "code",
   "execution_count": 79,
   "id": "8bd10da9-2ec9-4577-ae88-8c5710907b43",
   "metadata": {},
   "outputs": [
    {
     "name": "stdout",
     "output_type": "stream",
     "text": [
      "Event.Id                   object\n",
      "Investigation.Type         object\n",
      "Accident.Number            object\n",
      "Event.Date                 object\n",
      "Location                   object\n",
      "Country                    object\n",
      "Latitude                   object\n",
      "Longitude                  object\n",
      "Airport.Code               object\n",
      "Airport.Name               object\n",
      "Injury.Severity            object\n",
      "Aircraft.damage            object\n",
      "Aircraft.Category          object\n",
      "Registration.Number        object\n",
      "Make                       object\n",
      "Model                      object\n",
      "Amateur.Built              object\n",
      "Number.of.Engines         float64\n",
      "Engine.Type                object\n",
      "FAR.Description            object\n",
      "Schedule                   object\n",
      "Purpose.of.flight          object\n",
      "Air.carrier                object\n",
      "Total.Fatal.Injuries      float64\n",
      "Total.Serious.Injuries    float64\n",
      "Total.Minor.Injuries      float64\n",
      "Total.Uninjured           float64\n",
      "Weather.Condition          object\n",
      "Broad.phase.of.flight      object\n",
      "Report.Status              object\n",
      "Publication.Date           object\n",
      "Total_severity            float64\n",
      "dtype: object\n"
     ]
    }
   ],
   "source": [
    "print(df.dtypes)"
   ]
  },
  {
   "cell_type": "code",
   "execution_count": 80,
   "id": "e50ddfb0-3e05-498f-a3f4-355661e0dac9",
   "metadata": {},
   "outputs": [
    {
     "name": "stdout",
     "output_type": "stream",
     "text": [
      "<class 'pandas.core.frame.DataFrame'>\n",
      "RangeIndex: 88889 entries, 0 to 88888\n",
      "Data columns (total 32 columns):\n",
      " #   Column                  Non-Null Count  Dtype  \n",
      "---  ------                  --------------  -----  \n",
      " 0   Event.Id                88889 non-null  object \n",
      " 1   Investigation.Type      88889 non-null  object \n",
      " 2   Accident.Number         88889 non-null  object \n",
      " 3   Event.Date              88889 non-null  object \n",
      " 4   Location                88889 non-null  object \n",
      " 5   Country                 88889 non-null  object \n",
      " 6   Latitude                34382 non-null  object \n",
      " 7   Longitude               34373 non-null  object \n",
      " 8   Airport.Code            88889 non-null  object \n",
      " 9   Airport.Name            88889 non-null  object \n",
      " 10  Injury.Severity         88889 non-null  object \n",
      " 11  Aircraft.damage         88889 non-null  object \n",
      " 12  Aircraft.Category       32287 non-null  object \n",
      " 13  Registration.Number     88889 non-null  object \n",
      " 14  Make                    88889 non-null  object \n",
      " 15  Model                   88889 non-null  object \n",
      " 16  Amateur.Built           88889 non-null  object \n",
      " 17  Number.of.Engines       88889 non-null  float64\n",
      " 18  Engine.Type             88889 non-null  object \n",
      " 19  FAR.Description         32023 non-null  object \n",
      " 20  Schedule                12582 non-null  object \n",
      " 21  Purpose.of.flight       88889 non-null  object \n",
      " 22  Air.carrier             16648 non-null  object \n",
      " 23  Total.Fatal.Injuries    88889 non-null  float64\n",
      " 24  Total.Serious.Injuries  88889 non-null  float64\n",
      " 25  Total.Minor.Injuries    88889 non-null  float64\n",
      " 26  Total.Uninjured         88889 non-null  float64\n",
      " 27  Weather.Condition       88889 non-null  object \n",
      " 28  Broad.phase.of.flight   88889 non-null  object \n",
      " 29  Report.Status           82505 non-null  object \n",
      " 30  Publication.Date        88889 non-null  object \n",
      " 31  Total_severity          88889 non-null  float64\n",
      "dtypes: float64(6), object(26)\n",
      "memory usage: 21.7+ MB\n"
     ]
    }
   ],
   "source": [
    "df.info()"
   ]
  },
  {
   "cell_type": "code",
   "execution_count": 81,
   "id": "80a53cca-f481-4b74-9348-ad02104f0d35",
   "metadata": {},
   "outputs": [
    {
     "name": "stdout",
     "output_type": "stream",
     "text": [
      "<class 'pandas.core.series.Series'>\n",
      "RangeIndex: 88889 entries, 0 to 88888\n",
      "Series name: Event.Date\n",
      "Non-Null Count  Dtype         \n",
      "--------------  -----         \n",
      "88889 non-null  datetime64[ns]\n",
      "dtypes: datetime64[ns](1)\n",
      "memory usage: 694.6 KB\n"
     ]
    }
   ],
   "source": [
    "#convert date to real time\n",
    "df[\"Event.Date\"] = pd.to_datetime(df[\"Event.Date\"], errors= \"coerce\")\n",
    "df[\"Event.Date\"].info()"
   ]
  },
  {
   "cell_type": "code",
   "execution_count": 82,
   "id": "a50a660d-b3a2-4d4b-9d47-11b35ed9a34a",
   "metadata": {},
   "outputs": [
    {
     "data": {
      "text/html": [
       "<div>\n",
       "<style scoped>\n",
       "    .dataframe tbody tr th:only-of-type {\n",
       "        vertical-align: middle;\n",
       "    }\n",
       "\n",
       "    .dataframe tbody tr th {\n",
       "        vertical-align: top;\n",
       "    }\n",
       "\n",
       "    .dataframe thead th {\n",
       "        text-align: right;\n",
       "    }\n",
       "</style>\n",
       "<table border=\"1\" class=\"dataframe\">\n",
       "  <thead>\n",
       "    <tr style=\"text-align: right;\">\n",
       "      <th></th>\n",
       "      <th>Event.Id</th>\n",
       "      <th>Investigation.Type</th>\n",
       "      <th>Accident.Number</th>\n",
       "      <th>Event.Date</th>\n",
       "      <th>Location</th>\n",
       "      <th>Country</th>\n",
       "      <th>Latitude</th>\n",
       "      <th>Longitude</th>\n",
       "      <th>Airport.Code</th>\n",
       "      <th>Airport.Name</th>\n",
       "      <th>...</th>\n",
       "      <th>Air.carrier</th>\n",
       "      <th>Total.Fatal.Injuries</th>\n",
       "      <th>Total.Serious.Injuries</th>\n",
       "      <th>Total.Minor.Injuries</th>\n",
       "      <th>Total.Uninjured</th>\n",
       "      <th>Weather.Condition</th>\n",
       "      <th>Broad.phase.of.flight</th>\n",
       "      <th>Report.Status</th>\n",
       "      <th>Publication.Date</th>\n",
       "      <th>Total_severity</th>\n",
       "    </tr>\n",
       "  </thead>\n",
       "  <tbody>\n",
       "    <tr>\n",
       "      <th>0</th>\n",
       "      <td>20001218X45444</td>\n",
       "      <td>Accident</td>\n",
       "      <td>SEA87LA080</td>\n",
       "      <td>1948-10-24</td>\n",
       "      <td>MOOSE CREEK, ID</td>\n",
       "      <td>United States</td>\n",
       "      <td>missing data</td>\n",
       "      <td>missing data</td>\n",
       "      <td>Missing</td>\n",
       "      <td>Missing</td>\n",
       "      <td>...</td>\n",
       "      <td>NaN</td>\n",
       "      <td>2.0</td>\n",
       "      <td>0.0</td>\n",
       "      <td>0.0</td>\n",
       "      <td>0.0</td>\n",
       "      <td>VMC</td>\n",
       "      <td>Cruise</td>\n",
       "      <td>Probable Cause</td>\n",
       "      <td>25-09-2020</td>\n",
       "      <td>2.0</td>\n",
       "    </tr>\n",
       "    <tr>\n",
       "      <th>1</th>\n",
       "      <td>20001218X45447</td>\n",
       "      <td>Accident</td>\n",
       "      <td>LAX94LA336</td>\n",
       "      <td>1962-07-19</td>\n",
       "      <td>BRIDGEPORT, CA</td>\n",
       "      <td>United States</td>\n",
       "      <td>missing data</td>\n",
       "      <td>missing data</td>\n",
       "      <td>Missing</td>\n",
       "      <td>Missing</td>\n",
       "      <td>...</td>\n",
       "      <td>NaN</td>\n",
       "      <td>4.0</td>\n",
       "      <td>0.0</td>\n",
       "      <td>0.0</td>\n",
       "      <td>0.0</td>\n",
       "      <td>VMC</td>\n",
       "      <td>Landing</td>\n",
       "      <td>Probable Cause</td>\n",
       "      <td>19-09-1996</td>\n",
       "      <td>4.0</td>\n",
       "    </tr>\n",
       "    <tr>\n",
       "      <th>2</th>\n",
       "      <td>20061025X01555</td>\n",
       "      <td>Accident</td>\n",
       "      <td>NYC07LA005</td>\n",
       "      <td>1974-08-30</td>\n",
       "      <td>Saltville, VA</td>\n",
       "      <td>United States</td>\n",
       "      <td>36.922223</td>\n",
       "      <td>-81.878056</td>\n",
       "      <td>Missing</td>\n",
       "      <td>Missing</td>\n",
       "      <td>...</td>\n",
       "      <td>NaN</td>\n",
       "      <td>3.0</td>\n",
       "      <td>0.0</td>\n",
       "      <td>0.0</td>\n",
       "      <td>0.0</td>\n",
       "      <td>IMC</td>\n",
       "      <td>Cruise</td>\n",
       "      <td>Probable Cause</td>\n",
       "      <td>26-02-2007</td>\n",
       "      <td>3.0</td>\n",
       "    </tr>\n",
       "    <tr>\n",
       "      <th>3</th>\n",
       "      <td>20001218X45448</td>\n",
       "      <td>Accident</td>\n",
       "      <td>LAX96LA321</td>\n",
       "      <td>1977-06-19</td>\n",
       "      <td>EUREKA, CA</td>\n",
       "      <td>United States</td>\n",
       "      <td>missing data</td>\n",
       "      <td>missing data</td>\n",
       "      <td>Missing</td>\n",
       "      <td>Missing</td>\n",
       "      <td>...</td>\n",
       "      <td>NaN</td>\n",
       "      <td>2.0</td>\n",
       "      <td>0.0</td>\n",
       "      <td>0.0</td>\n",
       "      <td>0.0</td>\n",
       "      <td>IMC</td>\n",
       "      <td>Cruise</td>\n",
       "      <td>Probable Cause</td>\n",
       "      <td>12-09-2000</td>\n",
       "      <td>2.0</td>\n",
       "    </tr>\n",
       "    <tr>\n",
       "      <th>4</th>\n",
       "      <td>20041105X01764</td>\n",
       "      <td>Accident</td>\n",
       "      <td>CHI79FA064</td>\n",
       "      <td>1979-08-02</td>\n",
       "      <td>Canton, OH</td>\n",
       "      <td>United States</td>\n",
       "      <td>missing data</td>\n",
       "      <td>missing data</td>\n",
       "      <td>Missing</td>\n",
       "      <td>Missing</td>\n",
       "      <td>...</td>\n",
       "      <td>NaN</td>\n",
       "      <td>1.0</td>\n",
       "      <td>2.0</td>\n",
       "      <td>0.0</td>\n",
       "      <td>0.0</td>\n",
       "      <td>VMC</td>\n",
       "      <td>Approach</td>\n",
       "      <td>Probable Cause</td>\n",
       "      <td>16-04-1980</td>\n",
       "      <td>3.0</td>\n",
       "    </tr>\n",
       "  </tbody>\n",
       "</table>\n",
       "<p>5 rows × 32 columns</p>\n",
       "</div>"
      ],
      "text/plain": [
       "         Event.Id Investigation.Type Accident.Number Event.Date  \\\n",
       "0  20001218X45444           Accident      SEA87LA080 1948-10-24   \n",
       "1  20001218X45447           Accident      LAX94LA336 1962-07-19   \n",
       "2  20061025X01555           Accident      NYC07LA005 1974-08-30   \n",
       "3  20001218X45448           Accident      LAX96LA321 1977-06-19   \n",
       "4  20041105X01764           Accident      CHI79FA064 1979-08-02   \n",
       "\n",
       "          Location        Country      Latitude     Longitude Airport.Code  \\\n",
       "0  MOOSE CREEK, ID  United States  missing data  missing data      Missing   \n",
       "1   BRIDGEPORT, CA  United States  missing data  missing data      Missing   \n",
       "2    Saltville, VA  United States     36.922223    -81.878056      Missing   \n",
       "3       EUREKA, CA  United States  missing data  missing data      Missing   \n",
       "4       Canton, OH  United States  missing data  missing data      Missing   \n",
       "\n",
       "  Airport.Name  ... Air.carrier Total.Fatal.Injuries Total.Serious.Injuries  \\\n",
       "0      Missing  ...         NaN                  2.0                    0.0   \n",
       "1      Missing  ...         NaN                  4.0                    0.0   \n",
       "2      Missing  ...         NaN                  3.0                    0.0   \n",
       "3      Missing  ...         NaN                  2.0                    0.0   \n",
       "4      Missing  ...         NaN                  1.0                    2.0   \n",
       "\n",
       "  Total.Minor.Injuries Total.Uninjured Weather.Condition  \\\n",
       "0                  0.0             0.0               VMC   \n",
       "1                  0.0             0.0               VMC   \n",
       "2                  0.0             0.0               IMC   \n",
       "3                  0.0             0.0               IMC   \n",
       "4                  0.0             0.0               VMC   \n",
       "\n",
       "  Broad.phase.of.flight   Report.Status Publication.Date Total_severity  \n",
       "0                Cruise  Probable Cause       25-09-2020            2.0  \n",
       "1               Landing  Probable Cause       19-09-1996            4.0  \n",
       "2                Cruise  Probable Cause       26-02-2007            3.0  \n",
       "3                Cruise  Probable Cause       12-09-2000            2.0  \n",
       "4              Approach  Probable Cause       16-04-1980            3.0  \n",
       "\n",
       "[5 rows x 32 columns]"
      ]
     },
     "execution_count": 82,
     "metadata": {},
     "output_type": "execute_result"
    }
   ],
   "source": [
    "df['Latitude'] = df['Latitude'].replace(np.nan,'missing data')\n",
    "df['Longitude'] = df['Longitude'].replace(np.nan,'missing data')\n",
    "df.head()"
   ]
  },
  {
   "cell_type": "markdown",
   "id": "b7163825-b8bf-468d-a9c4-55ddd162616f",
   "metadata": {},
   "source": [
    "REMOVING DUPLICATES\n"
   ]
  },
  {
   "cell_type": "code",
   "execution_count": 84,
   "id": "d3b72bb0-b797-4315-906c-beeb5633768e",
   "metadata": {},
   "outputs": [
    {
     "data": {
      "text/plain": [
       "0"
      ]
     },
     "execution_count": 84,
     "metadata": {},
     "output_type": "execute_result"
    }
   ],
   "source": [
    "df.duplicated().sum()"
   ]
  },
  {
   "cell_type": "markdown",
   "id": "845a93ed-682d-452f-b068-4834012c4c65",
   "metadata": {},
   "source": [
    "We have zero duplicates in the dataset!"
   ]
  },
  {
   "cell_type": "code",
   "execution_count": 86,
   "id": "5f385478-e78f-4807-81f3-8e1f37137495",
   "metadata": {},
   "outputs": [
    {
     "data": {
      "text/plain": [
       "0    1948\n",
       "1    1962\n",
       "2    1974\n",
       "3    1977\n",
       "4    1979\n",
       "Name: Year.ACC, dtype: int32"
      ]
     },
     "execution_count": 86,
     "metadata": {},
     "output_type": "execute_result"
    }
   ],
   "source": [
    "#let's create a new column of years to check the trend over the years\n",
    "df[\"Year.ACC\"] = df[\"Event.Date\"].dt.year\n",
    "df[\"Year.ACC\"].head()"
   ]
  },
  {
   "cell_type": "code",
   "execution_count": 87,
   "id": "37b74ca4-e87e-40fb-ba23-0f74441429c4",
   "metadata": {},
   "outputs": [
    {
     "data": {
      "text/html": [
       "<div>\n",
       "<style scoped>\n",
       "    .dataframe tbody tr th:only-of-type {\n",
       "        vertical-align: middle;\n",
       "    }\n",
       "\n",
       "    .dataframe tbody tr th {\n",
       "        vertical-align: top;\n",
       "    }\n",
       "\n",
       "    .dataframe thead th {\n",
       "        text-align: right;\n",
       "    }\n",
       "</style>\n",
       "<table border=\"1\" class=\"dataframe\">\n",
       "  <thead>\n",
       "    <tr style=\"text-align: right;\">\n",
       "      <th></th>\n",
       "      <th>Event.Id</th>\n",
       "      <th>Investigation.Type</th>\n",
       "      <th>Accident.Number</th>\n",
       "      <th>Event.Date</th>\n",
       "      <th>Location</th>\n",
       "      <th>Country</th>\n",
       "      <th>Latitude</th>\n",
       "      <th>Longitude</th>\n",
       "      <th>Airport.Code</th>\n",
       "      <th>Airport.Name</th>\n",
       "      <th>...</th>\n",
       "      <th>Total.Fatal.Injuries</th>\n",
       "      <th>Total.Serious.Injuries</th>\n",
       "      <th>Total.Minor.Injuries</th>\n",
       "      <th>Total.Uninjured</th>\n",
       "      <th>Weather.Condition</th>\n",
       "      <th>Broad.phase.of.flight</th>\n",
       "      <th>Report.Status</th>\n",
       "      <th>Publication.Date</th>\n",
       "      <th>Total_severity</th>\n",
       "      <th>Year.ACC</th>\n",
       "    </tr>\n",
       "  </thead>\n",
       "  <tbody>\n",
       "    <tr>\n",
       "      <th>0</th>\n",
       "      <td>20001218X45444</td>\n",
       "      <td>Accident</td>\n",
       "      <td>SEA87LA080</td>\n",
       "      <td>1948-10-24</td>\n",
       "      <td>MOOSE CREEK, ID</td>\n",
       "      <td>United States</td>\n",
       "      <td>missing data</td>\n",
       "      <td>missing data</td>\n",
       "      <td>Missing</td>\n",
       "      <td>Missing</td>\n",
       "      <td>...</td>\n",
       "      <td>2.0</td>\n",
       "      <td>0.0</td>\n",
       "      <td>0.0</td>\n",
       "      <td>0.0</td>\n",
       "      <td>VMC</td>\n",
       "      <td>Cruise</td>\n",
       "      <td>Probable Cause</td>\n",
       "      <td>25-09-2020</td>\n",
       "      <td>2.0</td>\n",
       "      <td>1948</td>\n",
       "    </tr>\n",
       "    <tr>\n",
       "      <th>1</th>\n",
       "      <td>20001218X45447</td>\n",
       "      <td>Accident</td>\n",
       "      <td>LAX94LA336</td>\n",
       "      <td>1962-07-19</td>\n",
       "      <td>BRIDGEPORT, CA</td>\n",
       "      <td>United States</td>\n",
       "      <td>missing data</td>\n",
       "      <td>missing data</td>\n",
       "      <td>Missing</td>\n",
       "      <td>Missing</td>\n",
       "      <td>...</td>\n",
       "      <td>4.0</td>\n",
       "      <td>0.0</td>\n",
       "      <td>0.0</td>\n",
       "      <td>0.0</td>\n",
       "      <td>VMC</td>\n",
       "      <td>Landing</td>\n",
       "      <td>Probable Cause</td>\n",
       "      <td>19-09-1996</td>\n",
       "      <td>4.0</td>\n",
       "      <td>1962</td>\n",
       "    </tr>\n",
       "    <tr>\n",
       "      <th>2</th>\n",
       "      <td>20061025X01555</td>\n",
       "      <td>Accident</td>\n",
       "      <td>NYC07LA005</td>\n",
       "      <td>1974-08-30</td>\n",
       "      <td>Saltville, VA</td>\n",
       "      <td>United States</td>\n",
       "      <td>36.922223</td>\n",
       "      <td>-81.878056</td>\n",
       "      <td>Missing</td>\n",
       "      <td>Missing</td>\n",
       "      <td>...</td>\n",
       "      <td>3.0</td>\n",
       "      <td>0.0</td>\n",
       "      <td>0.0</td>\n",
       "      <td>0.0</td>\n",
       "      <td>IMC</td>\n",
       "      <td>Cruise</td>\n",
       "      <td>Probable Cause</td>\n",
       "      <td>26-02-2007</td>\n",
       "      <td>3.0</td>\n",
       "      <td>1974</td>\n",
       "    </tr>\n",
       "    <tr>\n",
       "      <th>3</th>\n",
       "      <td>20001218X45448</td>\n",
       "      <td>Accident</td>\n",
       "      <td>LAX96LA321</td>\n",
       "      <td>1977-06-19</td>\n",
       "      <td>EUREKA, CA</td>\n",
       "      <td>United States</td>\n",
       "      <td>missing data</td>\n",
       "      <td>missing data</td>\n",
       "      <td>Missing</td>\n",
       "      <td>Missing</td>\n",
       "      <td>...</td>\n",
       "      <td>2.0</td>\n",
       "      <td>0.0</td>\n",
       "      <td>0.0</td>\n",
       "      <td>0.0</td>\n",
       "      <td>IMC</td>\n",
       "      <td>Cruise</td>\n",
       "      <td>Probable Cause</td>\n",
       "      <td>12-09-2000</td>\n",
       "      <td>2.0</td>\n",
       "      <td>1977</td>\n",
       "    </tr>\n",
       "    <tr>\n",
       "      <th>4</th>\n",
       "      <td>20041105X01764</td>\n",
       "      <td>Accident</td>\n",
       "      <td>CHI79FA064</td>\n",
       "      <td>1979-08-02</td>\n",
       "      <td>Canton, OH</td>\n",
       "      <td>United States</td>\n",
       "      <td>missing data</td>\n",
       "      <td>missing data</td>\n",
       "      <td>Missing</td>\n",
       "      <td>Missing</td>\n",
       "      <td>...</td>\n",
       "      <td>1.0</td>\n",
       "      <td>2.0</td>\n",
       "      <td>0.0</td>\n",
       "      <td>0.0</td>\n",
       "      <td>VMC</td>\n",
       "      <td>Approach</td>\n",
       "      <td>Probable Cause</td>\n",
       "      <td>16-04-1980</td>\n",
       "      <td>3.0</td>\n",
       "      <td>1979</td>\n",
       "    </tr>\n",
       "  </tbody>\n",
       "</table>\n",
       "<p>5 rows × 33 columns</p>\n",
       "</div>"
      ],
      "text/plain": [
       "         Event.Id Investigation.Type Accident.Number Event.Date  \\\n",
       "0  20001218X45444           Accident      SEA87LA080 1948-10-24   \n",
       "1  20001218X45447           Accident      LAX94LA336 1962-07-19   \n",
       "2  20061025X01555           Accident      NYC07LA005 1974-08-30   \n",
       "3  20001218X45448           Accident      LAX96LA321 1977-06-19   \n",
       "4  20041105X01764           Accident      CHI79FA064 1979-08-02   \n",
       "\n",
       "          Location        Country      Latitude     Longitude Airport.Code  \\\n",
       "0  MOOSE CREEK, ID  United States  missing data  missing data      Missing   \n",
       "1   BRIDGEPORT, CA  United States  missing data  missing data      Missing   \n",
       "2    Saltville, VA  United States     36.922223    -81.878056      Missing   \n",
       "3       EUREKA, CA  United States  missing data  missing data      Missing   \n",
       "4       Canton, OH  United States  missing data  missing data      Missing   \n",
       "\n",
       "  Airport.Name  ... Total.Fatal.Injuries Total.Serious.Injuries  \\\n",
       "0      Missing  ...                  2.0                    0.0   \n",
       "1      Missing  ...                  4.0                    0.0   \n",
       "2      Missing  ...                  3.0                    0.0   \n",
       "3      Missing  ...                  2.0                    0.0   \n",
       "4      Missing  ...                  1.0                    2.0   \n",
       "\n",
       "  Total.Minor.Injuries Total.Uninjured Weather.Condition  \\\n",
       "0                  0.0             0.0               VMC   \n",
       "1                  0.0             0.0               VMC   \n",
       "2                  0.0             0.0               IMC   \n",
       "3                  0.0             0.0               IMC   \n",
       "4                  0.0             0.0               VMC   \n",
       "\n",
       "  Broad.phase.of.flight   Report.Status  Publication.Date Total_severity  \\\n",
       "0                Cruise  Probable Cause        25-09-2020            2.0   \n",
       "1               Landing  Probable Cause        19-09-1996            4.0   \n",
       "2                Cruise  Probable Cause        26-02-2007            3.0   \n",
       "3                Cruise  Probable Cause        12-09-2000            2.0   \n",
       "4              Approach  Probable Cause        16-04-1980            3.0   \n",
       "\n",
       "  Year.ACC  \n",
       "0     1948  \n",
       "1     1962  \n",
       "2     1974  \n",
       "3     1977  \n",
       "4     1979  \n",
       "\n",
       "[5 rows x 33 columns]"
      ]
     },
     "execution_count": 87,
     "metadata": {},
     "output_type": "execute_result"
    }
   ],
   "source": [
    "df.head()"
   ]
  },
  {
   "cell_type": "code",
   "execution_count": 88,
   "id": "000a32e3-3722-4ca7-a943-a3a8c4641db7",
   "metadata": {},
   "outputs": [
    {
     "data": {
      "text/html": [
       "<div>\n",
       "<style scoped>\n",
       "    .dataframe tbody tr th:only-of-type {\n",
       "        vertical-align: middle;\n",
       "    }\n",
       "\n",
       "    .dataframe tbody tr th {\n",
       "        vertical-align: top;\n",
       "    }\n",
       "\n",
       "    .dataframe thead th {\n",
       "        text-align: right;\n",
       "    }\n",
       "</style>\n",
       "<table border=\"1\" class=\"dataframe\">\n",
       "  <thead>\n",
       "    <tr style=\"text-align: right;\">\n",
       "      <th></th>\n",
       "      <th>Event.Id</th>\n",
       "      <th>Investigation.Type</th>\n",
       "      <th>Accident.Number</th>\n",
       "      <th>Event.Date</th>\n",
       "      <th>Location</th>\n",
       "      <th>Country</th>\n",
       "      <th>Latitude</th>\n",
       "      <th>Longitude</th>\n",
       "      <th>Airport.Code</th>\n",
       "      <th>Airport.Name</th>\n",
       "      <th>...</th>\n",
       "      <th>Total.Fatal.Injuries</th>\n",
       "      <th>Total.Serious.Injuries</th>\n",
       "      <th>Total.Minor.Injuries</th>\n",
       "      <th>Total.Uninjured</th>\n",
       "      <th>Weather.Condition</th>\n",
       "      <th>Broad.phase.of.flight</th>\n",
       "      <th>Report.Status</th>\n",
       "      <th>Publication.Date</th>\n",
       "      <th>Total_severity</th>\n",
       "      <th>Year.ACC</th>\n",
       "    </tr>\n",
       "  </thead>\n",
       "  <tbody>\n",
       "    <tr>\n",
       "      <th>0</th>\n",
       "      <td>20001218X45444</td>\n",
       "      <td>Accident</td>\n",
       "      <td>SEA87LA080</td>\n",
       "      <td>1948-10-24</td>\n",
       "      <td>MOOSE CREEK, ID</td>\n",
       "      <td>United States</td>\n",
       "      <td>missing data</td>\n",
       "      <td>missing data</td>\n",
       "      <td>Missing</td>\n",
       "      <td>Missing</td>\n",
       "      <td>...</td>\n",
       "      <td>2.0</td>\n",
       "      <td>0.0</td>\n",
       "      <td>0.0</td>\n",
       "      <td>0.0</td>\n",
       "      <td>VMC</td>\n",
       "      <td>Cruise</td>\n",
       "      <td>Probable Cause</td>\n",
       "      <td>25-09-2020</td>\n",
       "      <td>2.0</td>\n",
       "      <td>1948</td>\n",
       "    </tr>\n",
       "    <tr>\n",
       "      <th>1</th>\n",
       "      <td>20001218X45447</td>\n",
       "      <td>Accident</td>\n",
       "      <td>LAX94LA336</td>\n",
       "      <td>1962-07-19</td>\n",
       "      <td>BRIDGEPORT, CA</td>\n",
       "      <td>United States</td>\n",
       "      <td>missing data</td>\n",
       "      <td>missing data</td>\n",
       "      <td>Missing</td>\n",
       "      <td>Missing</td>\n",
       "      <td>...</td>\n",
       "      <td>4.0</td>\n",
       "      <td>0.0</td>\n",
       "      <td>0.0</td>\n",
       "      <td>0.0</td>\n",
       "      <td>VMC</td>\n",
       "      <td>Landing</td>\n",
       "      <td>Probable Cause</td>\n",
       "      <td>19-09-1996</td>\n",
       "      <td>4.0</td>\n",
       "      <td>1962</td>\n",
       "    </tr>\n",
       "    <tr>\n",
       "      <th>2</th>\n",
       "      <td>20061025X01555</td>\n",
       "      <td>Accident</td>\n",
       "      <td>NYC07LA005</td>\n",
       "      <td>1974-08-30</td>\n",
       "      <td>Saltville, VA</td>\n",
       "      <td>United States</td>\n",
       "      <td>36.922223</td>\n",
       "      <td>-81.878056</td>\n",
       "      <td>Missing</td>\n",
       "      <td>Missing</td>\n",
       "      <td>...</td>\n",
       "      <td>3.0</td>\n",
       "      <td>0.0</td>\n",
       "      <td>0.0</td>\n",
       "      <td>0.0</td>\n",
       "      <td>IMC</td>\n",
       "      <td>Cruise</td>\n",
       "      <td>Probable Cause</td>\n",
       "      <td>26-02-2007</td>\n",
       "      <td>3.0</td>\n",
       "      <td>1974</td>\n",
       "    </tr>\n",
       "    <tr>\n",
       "      <th>3</th>\n",
       "      <td>20001218X45448</td>\n",
       "      <td>Accident</td>\n",
       "      <td>LAX96LA321</td>\n",
       "      <td>1977-06-19</td>\n",
       "      <td>EUREKA, CA</td>\n",
       "      <td>United States</td>\n",
       "      <td>missing data</td>\n",
       "      <td>missing data</td>\n",
       "      <td>Missing</td>\n",
       "      <td>Missing</td>\n",
       "      <td>...</td>\n",
       "      <td>2.0</td>\n",
       "      <td>0.0</td>\n",
       "      <td>0.0</td>\n",
       "      <td>0.0</td>\n",
       "      <td>IMC</td>\n",
       "      <td>Cruise</td>\n",
       "      <td>Probable Cause</td>\n",
       "      <td>12-09-2000</td>\n",
       "      <td>2.0</td>\n",
       "      <td>1977</td>\n",
       "    </tr>\n",
       "    <tr>\n",
       "      <th>4</th>\n",
       "      <td>20041105X01764</td>\n",
       "      <td>Accident</td>\n",
       "      <td>CHI79FA064</td>\n",
       "      <td>1979-08-02</td>\n",
       "      <td>Canton, OH</td>\n",
       "      <td>United States</td>\n",
       "      <td>missing data</td>\n",
       "      <td>missing data</td>\n",
       "      <td>Missing</td>\n",
       "      <td>Missing</td>\n",
       "      <td>...</td>\n",
       "      <td>1.0</td>\n",
       "      <td>2.0</td>\n",
       "      <td>0.0</td>\n",
       "      <td>0.0</td>\n",
       "      <td>VMC</td>\n",
       "      <td>Approach</td>\n",
       "      <td>Probable Cause</td>\n",
       "      <td>16-04-1980</td>\n",
       "      <td>3.0</td>\n",
       "      <td>1979</td>\n",
       "    </tr>\n",
       "  </tbody>\n",
       "</table>\n",
       "<p>5 rows × 29 columns</p>\n",
       "</div>"
      ],
      "text/plain": [
       "         Event.Id Investigation.Type Accident.Number Event.Date  \\\n",
       "0  20001218X45444           Accident      SEA87LA080 1948-10-24   \n",
       "1  20001218X45447           Accident      LAX94LA336 1962-07-19   \n",
       "2  20061025X01555           Accident      NYC07LA005 1974-08-30   \n",
       "3  20001218X45448           Accident      LAX96LA321 1977-06-19   \n",
       "4  20041105X01764           Accident      CHI79FA064 1979-08-02   \n",
       "\n",
       "          Location        Country      Latitude     Longitude Airport.Code  \\\n",
       "0  MOOSE CREEK, ID  United States  missing data  missing data      Missing   \n",
       "1   BRIDGEPORT, CA  United States  missing data  missing data      Missing   \n",
       "2    Saltville, VA  United States     36.922223    -81.878056      Missing   \n",
       "3       EUREKA, CA  United States  missing data  missing data      Missing   \n",
       "4       Canton, OH  United States  missing data  missing data      Missing   \n",
       "\n",
       "  Airport.Name  ... Total.Fatal.Injuries Total.Serious.Injuries  \\\n",
       "0      Missing  ...                  2.0                    0.0   \n",
       "1      Missing  ...                  4.0                    0.0   \n",
       "2      Missing  ...                  3.0                    0.0   \n",
       "3      Missing  ...                  2.0                    0.0   \n",
       "4      Missing  ...                  1.0                    2.0   \n",
       "\n",
       "  Total.Minor.Injuries Total.Uninjured Weather.Condition  \\\n",
       "0                  0.0             0.0               VMC   \n",
       "1                  0.0             0.0               VMC   \n",
       "2                  0.0             0.0               IMC   \n",
       "3                  0.0             0.0               IMC   \n",
       "4                  0.0             0.0               VMC   \n",
       "\n",
       "  Broad.phase.of.flight   Report.Status Publication.Date Total_severity  \\\n",
       "0                Cruise  Probable Cause       25-09-2020            2.0   \n",
       "1               Landing  Probable Cause       19-09-1996            4.0   \n",
       "2                Cruise  Probable Cause       26-02-2007            3.0   \n",
       "3                Cruise  Probable Cause       12-09-2000            2.0   \n",
       "4              Approach  Probable Cause       16-04-1980            3.0   \n",
       "\n",
       "   Year.ACC  \n",
       "0      1948  \n",
       "1      1962  \n",
       "2      1974  \n",
       "3      1977  \n",
       "4      1979  \n",
       "\n",
       "[5 rows x 29 columns]"
      ]
     },
     "execution_count": 88,
     "metadata": {},
     "output_type": "execute_result"
    }
   ],
   "source": [
    "#dropping columns that have excess missing values.\n",
    "df.drop(\"Schedule\",axis=1, inplace= True)\n",
    "df.drop(\"Air.carrier\",axis=1,inplace= True)\n",
    "df.drop(\"FAR.Description\", axis =1,inplace= True)\n",
    "df.drop(\"Aircraft.Category\",axis = 1,inplace= True)\n",
    "df.head()"
   ]
  },
  {
   "cell_type": "markdown",
   "id": "c80e9e83-e175-4852-9bb1-2b04f1cc987c",
   "metadata": {},
   "source": [
    "**DATA VISUALIZATION**"
   ]
  },
  {
   "cell_type": "markdown",
   "id": "a226a901-98d0-46e5-832d-85a5c8bf633f",
   "metadata": {},
   "source": [
    "**1. Establish a Relationship Between Aircraft Features and Accident Severity**"
   ]
  },
  {
   "cell_type": "markdown",
   "id": "08a5e9fb-33fd-4c72-8e0a-36ff221ea8b3",
   "metadata": {},
   "source": [
    "a)**SCATTER MATRIX**"
   ]
  },
  {
   "cell_type": "markdown",
   "id": "c98682df-0175-4786-8db0-86a123113617",
   "metadata": {},
   "source": [
    "Will show the connections between injury metrics (Total Fatal Injuries, Total Serious Injuries, Total Minor Injuries, and Total Uninjured) and aircraft attributes (Model, Make, Engine Type, and Aircraft Damage):drawing attention to correlations and trends."
   ]
  },
  {
   "cell_type": "code",
   "execution_count": 93,
   "id": "151c3a9a-9148-4ef2-ab73-0e74a2bef96f",
   "metadata": {},
   "outputs": [
    {
     "data": {
      "image/png": "[encoded data removed]",
      "text/plain": [
       "<Figure size 1000x1000 with 16 Axes>"
      ]
     },
     "metadata": {},
     "output_type": "display_data"
    }
   ],
   "source": [
    "pd.plotting.scatter_matrix(df[[\"Total.Fatal.Injuries\",\"Total.Serious.Injuries\",\"Total.Minor.Injuries\",\"Total.Uninjured\"]],figsize=(10,10), alpha=.7)\n",
    "plt.suptitle(\"Scatter Matrix of Casualities Metrics\")\n",
    "plt.show()"
   ]
  },
  {
   "cell_type": "markdown",
   "id": "3fb56f2a-e079-4443-95ff-afe20098b711",
   "metadata": {},
   "source": [
    "b). **BarChart**"
   ]
  },
  {
   "cell_type": "code",
   "execution_count": 95,
   "id": "f4d39b1d-4ff6-413c-8fc2-7a205ee84f49",
   "metadata": {},
   "outputs": [
    {
     "data": {
      "image/png": "[encoded data removed]",
      "text/plain": [
       "<Figure size 1000x700 with 1 Axes>"
      ]
     },
     "metadata": {},
     "output_type": "display_data"
    }
   ],
   "source": [
    "#We're going to check how engine type correlaates to the injury metrics\n",
    "engtype_severity=df.groupby(\"Number.of.Engines\")[[\"Total.Fatal.Injuries\",\"Total.Serious.Injuries\",\"Total.Minor.Injuries\"]].sum()\n",
    "ax = engtype_severity.plot(kind=\"bar\", figsize=(10,7))\n",
    "plt.title(\"Injury Severity per Number of Engines\")\n",
    "plt.xlabel(\"Number of Engines\")\n",
    "plt.ylabel(\"Injury Severity\")\n",
    "plt.tight_layout()\n",
    "plt.legend()\n",
    "plt.show()"
   ]
  },
  {
   "cell_type": "markdown",
   "id": "c0a63bf6-b955-45cc-a0be-d455fb049ec2",
   "metadata": {},
   "source": [
    "From the graph, ONE-ENGINE aircrafts have the most number of Injured people(Fatalities being the highest; followed by Minor and Serious Injuries respectively). TW0-ENGINE aircrafts come second recording a high in Fatal,Minor and Serious respectively , followed by the THREE-ENGINE that has a high in Minor injures,Fatal and Serious respectively. In the FOUR-ENGINE aircrafts has more Fatal injuries over Minor and Serious respectively while NONE-ENGINED aircrafts have a relatively equal number of Injuries . EIGHT=ENGINED aircrafts have lowest number of injured people having only a small number of Minor Injured people, while the SIX-ENGINE has no records of Injuries(less commonly used)."
   ]
  },
  {
   "cell_type": "markdown",
   "id": "361df02c-bf7e-4d43-9026-9e6829d0cb1a",
   "metadata": {},
   "source": [
    "**2. Evaluate the Effects of Weather and Flight on the Severity of Accidents**"
   ]
  },
  {
   "cell_type": "markdown",
   "id": "6b5e6f39-6bbd-4878-985e-b3380013903c",
   "metadata": {},
   "source": [
    "**a). BarCharts**"
   ]
  },
  {
   "cell_type": "code",
   "execution_count": 99,
   "id": "94548c46-45f0-4eeb-837c-15eb6baa04ea",
   "metadata": {},
   "outputs": [
    {
     "data": {
      "image/png": "[encoded data removed]",
      "text/plain": [
       "<Figure size 1000x700 with 1 Axes>"
      ]
     },
     "metadata": {},
     "output_type": "display_data"
    }
   ],
   "source": [
    "phase_severity=df.groupby(\"Broad.phase.of.flight\")[[\"Total.Fatal.Injuries\",\"Total.Serious.Injuries\",\"Total.Minor.Injuries\",\"Total.Uninjured\"]].sum()\n",
    "ax = phase_severity.plot(kind=\"bar\", figsize=(10,7))\n",
    "plt.title(\"Injury Severity per Phase of Flight\")\n",
    "plt.xlabel(\"Phase of Flight\")\n",
    "plt.ylabel(\"Injury Metrics\")\n",
    "plt.tight_layout()\n",
    "plt.legend()\n",
    "plt.show()"
   ]
  },
  {
   "cell_type": "markdown",
   "id": "127395bf-dfc6-4c39-bd64-0bc6b16d9bcc",
   "metadata": {},
   "source": [
    "From the above grapgh , we are able to see that the Landing phase experiences the most uninjured records and also the most \n",
    "Fatal Injuries,Serious and Minor Injuries respectively. Followed by Cruise ,  Take off, Taxi , Approach respectively in less number of casualties. With the Standing phase, Taxi phase, Gp-around phase and Descent phase with the record lowest interms of casualties respectively."
   ]
  },
  {
   "cell_type": "code",
   "execution_count": 101,
   "id": "695e2c8f-2845-4a21-a38b-281b7e9994fc",
   "metadata": {},
   "outputs": [
    {
     "data": {
      "image/png": "[encoded data removed]",
      "text/plain": [
       "<Figure size 1000x700 with 1 Axes>"
      ]
     },
     "metadata": {},
     "output_type": "display_data"
    }
   ],
   "source": [
    "weather_severity=df.groupby(\"Weather.Condition\")[[\"Total.Fatal.Injuries\",\"Total.Serious.Injuries\",\"Total.Minor.Injuries\",\"Total.Uninjured\"]].sum()\n",
    "ax = weather_severity.plot(kind=\"bar\", figsize=(10,7))\n",
    "plt.title(\"Injury Severity per Weather Condition\")\n",
    "plt.xlabel(\"Weather Condition\")\n",
    "plt.ylabel(\"Injury metrics\")\n",
    "plt.tight_layout()\n",
    "plt.legend()\n",
    "plt.show()"
   ]
  },
  {
   "cell_type": "markdown",
   "id": "cde17a04-3bb7-4874-9c6b-a2e480dfcacd",
   "metadata": {},
   "source": [
    "From the graph, VMC(good weather conditions) experience the highest number of Uninjured people and also the most Fatally, Seriously, and Minor Injured people. IMC(poor weather conditions) on the other hand experiences a higher number of Uninjured people but more number of Fataly injured people with a record low of both Serious and Minor injuries. "
   ]
  },
  {
   "cell_type": "markdown",
   "id": "d276c80f-6ee6-4781-a0f6-47e72ef4b26f",
   "metadata": {},
   "source": [
    "**3. Create a Data-Informed Risk Profile to help with Aircraft Investing Decision**"
   ]
  },
  {
   "cell_type": "code",
   "execution_count": 185,
   "id": "cfb09894-caac-44d2-95bd-ed60b2acbfb0",
   "metadata": {},
   "outputs": [
    {
     "data": {
      "image/png": "[encoded data removed]",
      "text/plain": [
       "<Figure size 1000x700 with 1 Axes>"
      ]
     },
     "metadata": {},
     "output_type": "display_data"
    }
   ],
   "source": [
    "#To check the model with the most number of I njured people that have used it over the years\n",
    "top_models = df[\"Model\"].value_counts().head(30).index#get the top thirty names of the models\n",
    "models = df[df[\"Model\"].isin(top_models)]#collect the number of times/counts in the entire column\n",
    "model_metrics = models.groupby(\"Model\")[\"Total_severity\"].sum()#group the make and no. of engines by the total uninjured, limiting it to the models\n",
    "model_metrics.plot(kind=\"bar\",figsize=(10,7))#plotting\n",
    "plt.title(\"Total People Injured per Top Thirty Aircraft Models\")\n",
    "plt.xlabel(\"Top Thirty Aircraft Models\")\n",
    "plt.ylabel(\"Total People Injured\")\n",
    "plt.tight_layout()\n",
    "plt.legend()\n",
    "plt.show()"
   ]
  },
  {
   "cell_type": "markdown",
   "id": "cea242ce-657d-478d-b299-eb11e105332e",
   "metadata": {},
   "source": [
    "From thegraph above we are able to see the Top Thirty Aircraft Models in the market with the highest numbers of casualties across the years.\n",
    "\"737\" recording the highest metrics , \"152\" coming in second , \"172\" in third and a tie between \"172N\" and \"PA-28-140\". \"G-164A\", \"G-164B\" and \"172S\" having the lowest records."
   ]
  },
  {
   "cell_type": "code",
   "execution_count": 106,
   "id": "b3225eee-e410-42d5-9488-c68144977339",
   "metadata": {},
   "outputs": [
    {
     "data": {
      "image/png": "[encoded data removed]",
      "text/plain": [
       "<Figure size 1000x700 with 1 Axes>"
      ]
     },
     "metadata": {},
     "output_type": "display_data"
    }
   ],
   "source": [
    "#To check the safest Aircraft Make and Number of Engines with the number of uninjured people that have used it over the years\n",
    "top_makes = df[\"Make\"].value_counts().head(10).index#get the top ten names of the plane\n",
    "makes = df[df[\"Make\"].isin(top_makes)]#collect the number of times/counts in the entire column\n",
    "make_metrics = makes.groupby([\"Make\",\"Number.of.Engines\"])[\"Total.Uninjured\"].sum()#group the make and no. of engines by the total uninjured, limiting it to the models\n",
    "make_metrics.plot(kind=\"barh\",figsize=(10,7))#plotting follows\n",
    "plt.title(\"Total Uninjured per Top Ten Aircraft Makes\")\n",
    "plt.xlabel(\"Top Ten Aircraft Makes\")\n",
    "plt.ylabel(\"Total Uninjured\")\n",
    "plt.tight_layout()\n",
    "plt.legend()\n",
    "plt.show()"
   ]
  },
  {
   "cell_type": "markdown",
   "id": "5b7e513d-86f3-4947-aa82-449c950dab66",
   "metadata": {},
   "source": [
    "From the bar graph above, the appropriate Make-Engine-numbers Aircraft to buy is 2-engine,Boeing whis has the highest record of Uninjured people followed by the 2-engine,BOEING and 1-engine,BOEING. Generally, Beoing has the highest number of Uninjured passangers over all the other Aircrafts. Mooney and Grummna having the least numbers followed by PIPER and Bell."
   ]
  },
  {
   "cell_type": "code",
   "execution_count": 188,
   "id": "d950a51f-ab00-454a-be0c-213f5808321f",
   "metadata": {},
   "outputs": [],
   "source": [
    "df.to_csv(\"Cleaned_AircraftData.csv\", index= False)"
   ]
  },
  {
   "cell_type": "markdown",
   "id": "d38ed210-9fe8-4ca4-b493-8ea4a264cc32",
   "metadata": {},
   "source": [
    "**Recommendations**"
   ]
  },
  {
   "cell_type": "markdown",
   "id": "de9bc815-f751-4965-bac1-c490a75851ca",
   "metadata": {},
   "source": [
    "**1.**  According to accident severity analysis, give priority to investing in aircrafts with a track record of safety; with the biggest percentage off passengers who are umimjured in **Cessna** and **Boeing** models. These models have superior safety records /better accident survival rates."
   ]
  },
  {
   "cell_type": "markdown",
   "id": "1dc399f8-4ca0-4dfb-ab4f-da456666ceca",
   "metadata": {},
   "source": [
    "**2.** The most dangerous phase of flight is Landing phase which has the highest number of overall injuries. This phase ought to be the focus of additional safety proceures and pilot training. Using highly advanced technology for landing assistance, pilot training and runway monitoring to increase landing safety."
   ]
  },
  {
   "cell_type": "markdown",
   "id": "933c1591-e37b-4ee3-bd00-0012861d38ca",
   "metadata": {},
   "source": [
    "**3.** Injuries have been decreasing over the years, either as a result of better technology, stricter laws or fewer flights. Inorder to strenghen optimum safety procedures, this tendency needs more research. Also promoting risk assessments and aviation safety training based on accident trends in general."
   ]
  },
  {
   "cell_type": "markdown",
   "id": "9999f455-8d22-4e67-b977-1a05665cf0d2",
   "metadata": {},
   "source": [
    "**4.** Personal flights have the most uninjured people, suggesting considerations for the Private Sector; or rather when choosing a fleet of airlines to invest in thorough evaluations should be done. "
   ]
  },
  {
   "cell_type": "code",
   "execution_count": null,
   "id": "a367e959-7a89-4822-b066-264fe1c11235",
   "metadata": {},
   "outputs": [],
   "source": []
  }
 ],
 "metadata": {
  "kernelspec": {
   "display_name": "Python [conda env:base] *",
   "language": "python",
   "name": "conda-base-py"
  },
  "language_info": {
   "codemirror_mode": {
    "name": "ipython",
    "version": 3
   },
   "file_extension": ".py",
   "mimetype": "text/x-python",
   "name": "python",
   "nbconvert_exporter": "python",
   "pygments_lexer": "ipython3",
   "version": "3.11.7"
  }
 },
 "nbformat": 4,
 "nbformat_minor": 5
}
