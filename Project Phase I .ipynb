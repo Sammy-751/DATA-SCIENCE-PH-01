{
 "cells": [
  {
   "cell_type": "markdown",
   "id": "6377b9d8-e0d3-4ded-8bc2-befdd0508516",
   "metadata": {},
   "source": [
    "**RISK ASSESSMENT FOR AIRCRAFTS IN THE AVIATION SECTOR**"
   ]
  },
  {
   "cell_type": "markdown",
   "id": "d6c8c3e9-9cef-443d-ad75-47d2736f583e",
   "metadata": {},
   "source": [
    "**Problem Statement**"
   ]
  },
  {
   "cell_type": "markdown",
   "id": "c8f77f43-b94e-48d5-a820-51b309f82554",
   "metadata": {},
   "source": [
    "By getting involved in the aviation sector, the company is braodening it's portfolio by buying and managing aircraft for both \n",
    "individual and commercial business. The distinct operational and safety issues connected to various aircraft models,however, \n",
    "are not well understood. To choose the aircraft with the best safety records and fewest hazards, it's difficult to evaluate \n",
    "past safety and performance data. Leadership in the aviation division will be better eqquiped to make wise purchases and put \n",
    "risk-reduction plans into action thanks to this analysis."
   ]
  },
  {
   "cell_type": "markdown",
   "id": "a7a9099d-43b5-430a-aba8-93ee36560f43",
   "metadata": {},
   "source": [
    "**Objectives**"
   ]
  },
  {
   "cell_type": "markdown",
   "id": "4f3fc073-4924-4e81-aa9e-042f6e6b8dbd",
   "metadata": {},
   "source": [
    "**1. Establish a Relationship Between Aircraft Features and Accident Severity**"
   ]
  },
  {
   "cell_type": "markdown",
   "id": "781c8e39-1e0a-4c6d-9dc1-970d64336bc2",
   "metadata": {},
   "source": [
    "To examine important aircraft features (Model,Make,Engine Type, Aircraft Damage) in conjuction with the injury metrics\n",
    "(Total Fatal Injuries, Total Serious Injuries, Total Minor Injuries, Total Uninjured) to identify which models routinely\n",
    "exhibit lower accident severity rates."
   ]
  },
  {
   "cell_type": "markdown",
   "id": "2d712300-b9a3-46aa-bada-7ba4a9234883",
   "metadata": {},
   "source": [
    "**2. Evaluate the Effects of Weather and Flight on the Severity of Accidents**"
   ]
  },
  {
   "cell_type": "markdown",
   "id": "c58348ae-0967-41b0-9aa1-94ceff8b55ee",
   "metadata": {},
   "source": [
    "Examine the effects of weather(VMC vs IMC) on accident outcomes. To also assertain when the hazards are greatest, \n",
    "examine incidents by general flight phases(Take off, Cruise/enoute, Approach/Landing)."
   ]
  },
  {
   "cell_type": "markdown",
   "id": "2058569c-a445-4f8e-b2f4-fcc3b3b2b241",
   "metadata": {},
   "source": [
    "**3. Create a Data-Informed Risk Profile to help with Aircraft Investing Decision**"
   ]
  },
  {
   "cell_type": "markdown",
   "id": "a73f875a-6d7f-4dd5-a8b0-c391b5a4658a",
   "metadata": {},
   "source": [
    "Considering accident fatalities, iinjury severity and aircraft damage to rank aircraft safety. Make recommendations on the \n",
    "safest aircraft types for the company's commercial and private aviation investments."
   ]
  },
  {
   "cell_type": "markdown",
   "id": "d598084f-3aca-487c-887e-c49b72c50b7c",
   "metadata": {},
   "source": [
    "**Data Cleaning and Visualization of The Dataset**"
   ]
  },
  {
   "cell_type": "markdown",
   "id": "f9964382-9210-4d26-8ec1-eb4be1808ba0",
   "metadata": {},
   "source": [
    "**1. Data Cleaning**"
   ]
  },
  {
   "cell_type": "code",
   "execution_count": null,
   "id": "171e576a-66d2-4d02-9322-96b161b8af1b",
   "metadata": {},
   "outputs": [],
   "source": []
  }
 ],
 "metadata": {
  "kernelspec": {
   "display_name": "Python [conda env:base] *",
   "language": "python",
   "name": "conda-base-py"
  },
  "language_info": {
   "codemirror_mode": {
    "name": "ipython",
    "version": 3
   },
   "file_extension": ".py",
   "mimetype": "text/x-python",
   "name": "python",
   "nbconvert_exporter": "python",
   "pygments_lexer": "ipython3",
   "version": "3.11.7"
  }
 },
 "nbformat": 4,
 "nbformat_minor": 5
}
